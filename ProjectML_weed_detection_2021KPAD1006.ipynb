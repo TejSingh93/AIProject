{
  "cells": [
    {
      "cell_type": "code",
      "source": [
        "from google.colab import drive\n",
        "drive.mount('/content/drive')"
      ],
      "metadata": {
        "colab": {
          "base_uri": "https://localhost:8080/"
        },
        "id": "r7dlvmP485oD",
        "outputId": "067771ca-71a2-405b-8dad-3fecb841d14b"
      },
      "execution_count": null,
      "outputs": [
        {
          "output_type": "stream",
          "name": "stdout",
          "text": [
            "Mounted at /content/drive\n"
          ]
        }
      ]
    },
    {
      "cell_type": "markdown",
      "source": [
        "Title :Weed Detection  using Machine learning Techniques for Precision Agriculture.\n",
        "This project aims to apply various supervised ML algorithms for weed detection.  At the end their performances will also be assessed. For this work images of the weed plants and normal plants are required. A publicly open dataset  from Kaggle was taken for the research purpose.\n",
        "Data set is balanced data set."
      ],
      "metadata": {
        "id": "aDchqg_zI7Hj"
      }
    },
    {
      "cell_type": "code",
      "execution_count": null,
      "metadata": {
        "id": "SgXL-v_Yo83o"
      },
      "outputs": [],
      "source": [
        "# import necessary packages\n",
        "\n",
        "from sklearn.neighbors import KNeighborsClassifier\n",
        "from sklearn.preprocessing import LabelEncoder\n",
        "from sklearn.model_selection import  train_test_split\n",
        "from sklearn.metrics import classification_report\n",
        "from imutils import paths\n",
        "import os\n",
        "import glob\n",
        "import cv2\n",
        "import numpy as np\n",
        "from skimage import data, io, filters\n"
      ]
    },
    {
      "cell_type": "code",
      "execution_count": null,
      "metadata": {
        "id": "wsn2gHK9o83r"
      },
      "outputs": [],
      "source": [
        "#to Read image from Dataset folder\n",
        "def getListOfFiles(dirName):\n",
        "    # create a list of file and sub directories\n",
        "    # names in the given directory\n",
        "    listOfFile = os.listdir(dirName)\n",
        "    allFiles = list()\n",
        "    # Iterate over all the entries\n",
        "    for entry in listOfFile:\n",
        "        # Create full path\n",
        "        fullPath = os.path.join(dirName, entry)\n",
        "        # If entry is a directory then get the list of files in this directory\n",
        "        if os.path.isdir(fullPath):\n",
        "            allFiles = allFiles + getListOfFiles(fullPath)\n",
        "        else:\n",
        "            allFiles.append(fullPath)\n",
        "\n",
        "    return allFiles"
      ]
    },
    {
      "cell_type": "code",
      "execution_count": null,
      "metadata": {
        "colab": {
          "base_uri": "https://localhost:8080/"
        },
        "id": "-hLiF9P7o83r",
        "outputId": "b2a9db68-5021-4b52-82eb-39cb9b136cd3"
      },
      "outputs": [
        {
          "output_type": "stream",
          "name": "stdout",
          "text": [
            "['/content/drive/MyDrive/Image/ML/dataset/paddy/Paddy (4).jpg', '/content/drive/MyDrive/Image/ML/dataset/paddy/Paddy (10).jpg', '/content/drive/MyDrive/Image/ML/dataset/paddy/Paddy (50).jpg', '/content/drive/MyDrive/Image/ML/dataset/paddy/Paddy (61).jpg', '/content/drive/MyDrive/Image/ML/dataset/paddy/Paddy (52).jpg', '/content/drive/MyDrive/Image/ML/dataset/paddy/Paddy (41).jpg', '/content/drive/MyDrive/Image/ML/dataset/paddy/Paddy (69).jpg', '/content/drive/MyDrive/Image/ML/dataset/paddy/Paddy (73).jpg', '/content/drive/MyDrive/Image/ML/dataset/paddy/Paddy (7).jpg', '/content/drive/MyDrive/Image/ML/dataset/paddy/Paddy (58).jpg', '/content/drive/MyDrive/Image/ML/dataset/paddy/Paddy (55).jpg', '/content/drive/MyDrive/Image/ML/dataset/paddy/Paddy (57).jpg', '/content/drive/MyDrive/Image/ML/dataset/paddy/Paddy (53).jpg', '/content/drive/MyDrive/Image/ML/dataset/paddy/Paddy (11).jpg', '/content/drive/MyDrive/Image/ML/dataset/paddy/Paddy (15).jpg', '/content/drive/MyDrive/Image/ML/dataset/paddy/Paddy (68).jpg', '/content/drive/MyDrive/Image/ML/dataset/paddy/Paddy (62).jpg', '/content/drive/MyDrive/Image/ML/dataset/paddy/Paddy (519).jpg', '/content/drive/MyDrive/Image/ML/dataset/paddy/Paddy (1).jpg', '/content/drive/MyDrive/Image/ML/dataset/paddy/Paddy (28).jpg', '/content/drive/MyDrive/Image/ML/dataset/paddy/Paddy (13).jpg', '/content/drive/MyDrive/Image/ML/dataset/paddy/Paddy (44).jpg', '/content/drive/MyDrive/Image/ML/dataset/paddy/Paddy (31).jpg', '/content/drive/MyDrive/Image/ML/dataset/paddy/Paddy (3).jpg', '/content/drive/MyDrive/Image/ML/dataset/paddy/Paddy (25).jpg', '/content/drive/MyDrive/Image/ML/dataset/paddy/Paddy (5).jpg', '/content/drive/MyDrive/Image/ML/dataset/paddy/Paddy (59).jpg', '/content/drive/MyDrive/Image/ML/dataset/paddy/Paddy (54).jpg', '/content/drive/MyDrive/Image/ML/dataset/paddy/Paddy (47).jpg', '/content/drive/MyDrive/Image/ML/dataset/paddy/Paddy (63).jpg', '/content/drive/MyDrive/Image/ML/dataset/paddy/Paddy (60).jpg', '/content/drive/MyDrive/Image/ML/dataset/paddy/Paddy (39).jpg', '/content/drive/MyDrive/Image/ML/dataset/paddy/Paddy (34).jpg', '/content/drive/MyDrive/Image/ML/dataset/paddy/Paddy (29).jpg', '/content/drive/MyDrive/Image/ML/dataset/paddy/Paddy (12).jpg', '/content/drive/MyDrive/Image/ML/dataset/paddy/Paddy (22).jpg', '/content/drive/MyDrive/Image/ML/dataset/paddy/Paddy (18).jpg', '/content/drive/MyDrive/Image/ML/dataset/paddy/Paddy (35).jpg', '/content/drive/MyDrive/Image/ML/dataset/paddy/Paddy (74).jpg', '/content/drive/MyDrive/Image/ML/dataset/paddy/Paddy (17).jpg', '/content/drive/MyDrive/Image/ML/dataset/paddy/Paddy (19).jpg', '/content/drive/MyDrive/Image/ML/dataset/paddy/Paddy (33).jpg', '/content/drive/MyDrive/Image/ML/dataset/paddy/Paddy (20).jpg', '/content/drive/MyDrive/Image/ML/dataset/paddy/Paddy (37).jpg', '/content/drive/MyDrive/Image/ML/dataset/paddy/Paddy (67).jpg', '/content/drive/MyDrive/Image/ML/dataset/paddy/Paddy (49).jpg', '/content/drive/MyDrive/Image/ML/dataset/paddy/Paddy (21).jpg', '/content/drive/MyDrive/Image/ML/dataset/paddy/Paddy (46).jpg', '/content/drive/MyDrive/Image/ML/dataset/paddy/Paddy (45).jpg', '/content/drive/MyDrive/Image/ML/dataset/paddy/Paddy (70).jpg', '/content/drive/MyDrive/Image/ML/dataset/paddy/Paddy (9).jpg', '/content/drive/MyDrive/Image/ML/dataset/paddy/Paddy (27).jpg', '/content/drive/MyDrive/Image/ML/dataset/paddy/Paddy (26).jpg', '/content/drive/MyDrive/Image/ML/dataset/paddy/Paddy (71).jpg', '/content/drive/MyDrive/Image/ML/dataset/paddy/Paddy (6).jpg', '/content/drive/MyDrive/Image/ML/dataset/paddy/Paddy (36).jpg', '/content/drive/MyDrive/Image/ML/dataset/paddy/Paddy (42).jpg', '/content/drive/MyDrive/Image/ML/dataset/paddy/Paddy (38).jpg', '/content/drive/MyDrive/Image/ML/dataset/paddy/Paddy (66).jpg', '/content/drive/MyDrive/Image/ML/dataset/paddy/Paddy (65).jpg', '/content/drive/MyDrive/Image/ML/dataset/paddy/Paddy (51).jpg', '/content/drive/MyDrive/Image/ML/dataset/paddy/Paddy (23).jpg', '/content/drive/MyDrive/Image/ML/dataset/paddy/Paddy (2).jpg', '/content/drive/MyDrive/Image/ML/dataset/paddy/Paddy (14).jpg', '/content/drive/MyDrive/Image/ML/dataset/paddy/Paddy (43).jpg', '/content/drive/MyDrive/Image/ML/dataset/paddy/Paddy (30).jpg', '/content/drive/MyDrive/Image/ML/dataset/paddy/Paddy (132).jpg', '/content/drive/MyDrive/Image/ML/dataset/paddy/Paddy (75).jpg', '/content/drive/MyDrive/Image/ML/dataset/paddy/Paddy (147).jpg', '/content/drive/MyDrive/Image/ML/dataset/paddy/Paddy (103).jpg', '/content/drive/MyDrive/Image/ML/dataset/paddy/Paddy (78).jpg', '/content/drive/MyDrive/Image/ML/dataset/paddy/Paddy (107).jpg', '/content/drive/MyDrive/Image/ML/dataset/paddy/Paddy (102).jpg', '/content/drive/MyDrive/Image/ML/dataset/paddy/Paddy (121).jpg', '/content/drive/MyDrive/Image/ML/dataset/paddy/Paddy (91).jpg', '/content/drive/MyDrive/Image/ML/dataset/paddy/Paddy (93).jpg', '/content/drive/MyDrive/Image/ML/dataset/paddy/Paddy (82).jpg', '/content/drive/MyDrive/Image/ML/dataset/paddy/Paddy (113).jpg', '/content/drive/MyDrive/Image/ML/dataset/paddy/Paddy (133).jpg', '/content/drive/MyDrive/Image/ML/dataset/paddy/Paddy (86).jpg', '/content/drive/MyDrive/Image/ML/dataset/paddy/Paddy (139).jpg', '/content/drive/MyDrive/Image/ML/dataset/paddy/Paddy (89).jpg', '/content/drive/MyDrive/Image/ML/dataset/paddy/Paddy (158).jpg', '/content/drive/MyDrive/Image/ML/dataset/paddy/Paddy (83).jpg', '/content/drive/MyDrive/Image/ML/dataset/paddy/Paddy (116).jpg', '/content/drive/MyDrive/Image/ML/dataset/paddy/Paddy (98).jpg', '/content/drive/MyDrive/Image/ML/dataset/paddy/Paddy (149).jpg', '/content/drive/MyDrive/Image/ML/dataset/paddy/Paddy (100).jpg', '/content/drive/MyDrive/Image/ML/dataset/paddy/Paddy (105).jpg', '/content/drive/MyDrive/Image/ML/dataset/paddy/Paddy (79).jpg', '/content/drive/MyDrive/Image/ML/dataset/paddy/Paddy (115).jpg', '/content/drive/MyDrive/Image/ML/dataset/paddy/Paddy (111).jpg', '/content/drive/MyDrive/Image/ML/dataset/paddy/Paddy (81).jpg', '/content/drive/MyDrive/Image/ML/dataset/paddy/Paddy (127).jpg', '/content/drive/MyDrive/Image/ML/dataset/paddy/Paddy (95).jpg', '/content/drive/MyDrive/Image/ML/dataset/paddy/Paddy (114).jpg', '/content/drive/MyDrive/Image/ML/dataset/paddy/Paddy (131).jpg', '/content/drive/MyDrive/Image/ML/dataset/paddy/Paddy (156).jpg', '/content/drive/MyDrive/Image/ML/dataset/paddy/Paddy (148).jpg', '/content/drive/MyDrive/Image/ML/dataset/paddy/Paddy (101).jpg', '/content/drive/MyDrive/Image/ML/dataset/paddy/Paddy (138).jpg', '/content/drive/MyDrive/Image/ML/dataset/paddy/Paddy (123).jpg', '/content/drive/MyDrive/Image/ML/dataset/paddy/Paddy (129).jpg', '/content/drive/MyDrive/Image/ML/dataset/paddy/Paddy (122).jpg', '/content/drive/MyDrive/Image/ML/dataset/paddy/Paddy (159).jpg', '/content/drive/MyDrive/Image/ML/dataset/paddy/Paddy (150).jpg', '/content/drive/MyDrive/Image/ML/dataset/paddy/Paddy (119).jpg', '/content/drive/MyDrive/Image/ML/dataset/paddy/Paddy (146).jpg', '/content/drive/MyDrive/Image/ML/dataset/paddy/Paddy (142).jpg', '/content/drive/MyDrive/Image/ML/dataset/paddy/Paddy (99).jpg', '/content/drive/MyDrive/Image/ML/dataset/paddy/Paddy (125).jpg', '/content/drive/MyDrive/Image/ML/dataset/paddy/Paddy (137).jpg', '/content/drive/MyDrive/Image/ML/dataset/paddy/Paddy (97).jpg', '/content/drive/MyDrive/Image/ML/dataset/paddy/Paddy (90).jpg', '/content/drive/MyDrive/Image/ML/dataset/paddy/Paddy (124).jpg', '/content/drive/MyDrive/Image/ML/dataset/paddy/Paddy (135).jpg', '/content/drive/MyDrive/Image/ML/dataset/paddy/Paddy (85).jpg', '/content/drive/MyDrive/Image/ML/dataset/paddy/Paddy (77).jpg', '/content/drive/MyDrive/Image/ML/dataset/paddy/Paddy (110).jpg', '/content/drive/MyDrive/Image/ML/dataset/paddy/Paddy (151).jpg', '/content/drive/MyDrive/Image/ML/dataset/paddy/Paddy (130).jpg', '/content/drive/MyDrive/Image/ML/dataset/paddy/Paddy (143).jpg', '/content/drive/MyDrive/Image/ML/dataset/paddy/Paddy (108).jpg', '/content/drive/MyDrive/Image/ML/dataset/paddy/Paddy (117).jpg', '/content/drive/MyDrive/Image/ML/dataset/paddy/Paddy (141).jpg', '/content/drive/MyDrive/Image/ML/dataset/paddy/Paddy (84).jpg', '/content/drive/MyDrive/Image/ML/dataset/paddy/Paddy (153).jpg', '/content/drive/MyDrive/Image/ML/dataset/paddy/Paddy (155).jpg', '/content/drive/MyDrive/Image/ML/dataset/paddy/Paddy (126).jpg', '/content/drive/MyDrive/Image/ML/dataset/paddy/Paddy (76).jpg', '/content/drive/MyDrive/Image/ML/dataset/paddy/Paddy (87).jpg', '/content/drive/MyDrive/Image/ML/dataset/paddy/Paddy (154).jpg', '/content/drive/MyDrive/Image/ML/dataset/paddy/Paddy (92).jpg', '/content/drive/MyDrive/Image/ML/dataset/paddy/Paddy (94).jpg', '/content/drive/MyDrive/Image/ML/dataset/paddy/Paddy (134).jpg', '/content/drive/MyDrive/Image/ML/dataset/paddy/Paddy (145).jpg', '/content/drive/MyDrive/Image/ML/dataset/paddy/Paddy (109).jpg', '/content/drive/MyDrive/Image/ML/dataset/paddy/Paddy (118).jpg', '/content/drive/MyDrive/Image/ML/dataset/paddy/Paddy (106).jpg', '/content/drive/MyDrive/Image/ML/dataset/paddy/Paddy (140).jpg', '/content/drive/MyDrive/Image/ML/dataset/paddy/Paddy (157).jpg', '/content/drive/MyDrive/Image/ML/dataset/paddy/Paddy (244).jpg', '/content/drive/MyDrive/Image/ML/dataset/paddy/Paddy (234).jpg', '/content/drive/MyDrive/Image/ML/dataset/paddy/Paddy (169).jpg', '/content/drive/MyDrive/Image/ML/dataset/paddy/Paddy (247).jpg', '/content/drive/MyDrive/Image/ML/dataset/paddy/Paddy (221).jpg', '/content/drive/MyDrive/Image/ML/dataset/paddy/Paddy (227).jpg', '/content/drive/MyDrive/Image/ML/dataset/paddy/Paddy (196).jpg', '/content/drive/MyDrive/Image/ML/dataset/paddy/Paddy (228).jpg', '/content/drive/MyDrive/Image/ML/dataset/paddy/Paddy (199).jpg', '/content/drive/MyDrive/Image/ML/dataset/paddy/Paddy (167).jpg', '/content/drive/MyDrive/Image/ML/dataset/paddy/Paddy (210).jpg', '/content/drive/MyDrive/Image/ML/dataset/paddy/Paddy (193).jpg', '/content/drive/MyDrive/Image/ML/dataset/paddy/Paddy (194).jpg', '/content/drive/MyDrive/Image/ML/dataset/paddy/Paddy (178).jpg', '/content/drive/MyDrive/Image/ML/dataset/paddy/Paddy (191).jpg', '/content/drive/MyDrive/Image/ML/dataset/paddy/Paddy (188).jpg', '/content/drive/MyDrive/Image/ML/dataset/paddy/Paddy (181).jpg', '/content/drive/MyDrive/Image/ML/dataset/paddy/Paddy (202).jpg', '/content/drive/MyDrive/Image/ML/dataset/paddy/Paddy (250).jpg', '/content/drive/MyDrive/Image/ML/dataset/paddy/Paddy (171).jpg', '/content/drive/MyDrive/Image/ML/dataset/paddy/Paddy (243).jpg', '/content/drive/MyDrive/Image/ML/dataset/paddy/Paddy (236).jpg', '/content/drive/MyDrive/Image/ML/dataset/paddy/Paddy (218).jpg', '/content/drive/MyDrive/Image/ML/dataset/paddy/Paddy (220).jpg', '/content/drive/MyDrive/Image/ML/dataset/paddy/Paddy (204).jpg', '/content/drive/MyDrive/Image/ML/dataset/paddy/Paddy (213).jpg', '/content/drive/MyDrive/Image/ML/dataset/paddy/Paddy (177).jpg', '/content/drive/MyDrive/Image/ML/dataset/paddy/Paddy (166).jpg', '/content/drive/MyDrive/Image/ML/dataset/paddy/Paddy (170).jpg', '/content/drive/MyDrive/Image/ML/dataset/paddy/Paddy (185).jpg', '/content/drive/MyDrive/Image/ML/dataset/paddy/Paddy (235).jpg', '/content/drive/MyDrive/Image/ML/dataset/paddy/Paddy (209).jpg', '/content/drive/MyDrive/Image/ML/dataset/paddy/Paddy (183).jpg', '/content/drive/MyDrive/Image/ML/dataset/paddy/Paddy (249).jpg', '/content/drive/MyDrive/Image/ML/dataset/paddy/Paddy (212).jpg', '/content/drive/MyDrive/Image/ML/dataset/paddy/Paddy (242).jpg', '/content/drive/MyDrive/Image/ML/dataset/paddy/Paddy (162).jpg', '/content/drive/MyDrive/Image/ML/dataset/paddy/Paddy (226).jpg', '/content/drive/MyDrive/Image/ML/dataset/paddy/Paddy (219).jpg', '/content/drive/MyDrive/Image/ML/dataset/paddy/Paddy (246).jpg', '/content/drive/MyDrive/Image/ML/dataset/paddy/Paddy (207).jpg', '/content/drive/MyDrive/Image/ML/dataset/paddy/Paddy (222).jpg', '/content/drive/MyDrive/Image/ML/dataset/paddy/Paddy (189).jpg', '/content/drive/MyDrive/Image/ML/dataset/paddy/Paddy (180).jpg', '/content/drive/MyDrive/Image/ML/dataset/paddy/Paddy (187).jpg', '/content/drive/MyDrive/Image/ML/dataset/paddy/Paddy (179).jpg', '/content/drive/MyDrive/Image/ML/dataset/paddy/Paddy (175).jpg', '/content/drive/MyDrive/Image/ML/dataset/paddy/Paddy (195).jpg', '/content/drive/MyDrive/Image/ML/dataset/paddy/Paddy (211).jpg', '/content/drive/MyDrive/Image/ML/dataset/paddy/Paddy (203).jpg', '/content/drive/MyDrive/Image/ML/dataset/paddy/Paddy (205).jpg', '/content/drive/MyDrive/Image/ML/dataset/paddy/Paddy (231).jpg', '/content/drive/MyDrive/Image/ML/dataset/paddy/Paddy (174).jpg', '/content/drive/MyDrive/Image/ML/dataset/paddy/Paddy (172).jpg', '/content/drive/MyDrive/Image/ML/dataset/paddy/Paddy (182).jpg', '/content/drive/MyDrive/Image/ML/dataset/paddy/Paddy (161).jpg', '/content/drive/MyDrive/Image/ML/dataset/paddy/Paddy (239).jpg', '/content/drive/MyDrive/Image/ML/dataset/paddy/Paddy (230).jpg', '/content/drive/MyDrive/Image/ML/dataset/paddy/Paddy (241).jpg', '/content/drive/MyDrive/Image/ML/dataset/paddy/Paddy (201).jpg', '/content/drive/MyDrive/Image/ML/dataset/paddy/Paddy (206).jpg', '/content/drive/MyDrive/Image/ML/dataset/paddy/Paddy (225).jpg', '/content/drive/MyDrive/Image/ML/dataset/paddy/Paddy (217).jpg', '/content/drive/MyDrive/Image/ML/dataset/paddy/Paddy (223).jpg', '/content/drive/MyDrive/Image/ML/dataset/paddy/Paddy (229).jpg', '/content/drive/MyDrive/Image/ML/dataset/paddy/Paddy (237).jpg', '/content/drive/MyDrive/Image/ML/dataset/paddy/Paddy (173).jpg', '/content/drive/MyDrive/Image/ML/dataset/paddy/Paddy (197).jpg', '/content/drive/MyDrive/Image/ML/dataset/paddy/Paddy (233).jpg', '/content/drive/MyDrive/Image/ML/dataset/paddy/Paddy (214).jpg', '/content/drive/MyDrive/Image/ML/dataset/paddy/Paddy (164).jpg', '/content/drive/MyDrive/Image/ML/dataset/paddy/Paddy (215).jpg', '/content/drive/MyDrive/Image/ML/dataset/paddy/Paddy (165).jpg', '/content/drive/MyDrive/Image/ML/dataset/paddy/Paddy (163).jpg', '/content/drive/MyDrive/Image/ML/dataset/paddy/Paddy (238).jpg', '/content/drive/MyDrive/Image/ML/dataset/paddy/Paddy (190).jpg', '/content/drive/MyDrive/Image/ML/dataset/paddy/Paddy (245).jpg', '/content/drive/MyDrive/Image/ML/dataset/paddy/Paddy (198).jpg', '/content/drive/MyDrive/Image/ML/dataset/paddy/Paddy (186).jpg', '/content/drive/MyDrive/Image/ML/dataset/paddy/Paddy (282).jpg', '/content/drive/MyDrive/Image/ML/dataset/paddy/Paddy (279).jpg', '/content/drive/MyDrive/Image/ML/dataset/paddy/Paddy (299).jpg', '/content/drive/MyDrive/Image/ML/dataset/paddy/Paddy (251).jpg', '/content/drive/MyDrive/Image/ML/dataset/paddy/Paddy (303).jpg', '/content/drive/MyDrive/Image/ML/dataset/paddy/Paddy (305).jpg', '/content/drive/MyDrive/Image/ML/dataset/paddy/Paddy (260).jpg', '/content/drive/MyDrive/Image/ML/dataset/paddy/Paddy (335).jpg', '/content/drive/MyDrive/Image/ML/dataset/paddy/Paddy (297).jpg', '/content/drive/MyDrive/Image/ML/dataset/paddy/Paddy (319).jpg', '/content/drive/MyDrive/Image/ML/dataset/paddy/Paddy (325).jpg', '/content/drive/MyDrive/Image/ML/dataset/paddy/Paddy (307).jpg', '/content/drive/MyDrive/Image/ML/dataset/paddy/Paddy (276).jpg', '/content/drive/MyDrive/Image/ML/dataset/paddy/Paddy (301).jpg', '/content/drive/MyDrive/Image/ML/dataset/paddy/Paddy (253).jpg', '/content/drive/MyDrive/Image/ML/dataset/paddy/Paddy (252).jpg', '/content/drive/MyDrive/Image/ML/dataset/paddy/Paddy (263).jpg', '/content/drive/MyDrive/Image/ML/dataset/paddy/Paddy (286).jpg', '/content/drive/MyDrive/Image/ML/dataset/paddy/Paddy (318).jpg', '/content/drive/MyDrive/Image/ML/dataset/paddy/Paddy (292).jpg', '/content/drive/MyDrive/Image/ML/dataset/paddy/Paddy (309).jpg', '/content/drive/MyDrive/Image/ML/dataset/paddy/Paddy (316).jpg', '/content/drive/MyDrive/Image/ML/dataset/paddy/Paddy (289).jpg', '/content/drive/MyDrive/Image/ML/dataset/paddy/Paddy (262).jpg', '/content/drive/MyDrive/Image/ML/dataset/paddy/Paddy (293).jpg', '/content/drive/MyDrive/Image/ML/dataset/paddy/Paddy (268).jpg', '/content/drive/MyDrive/Image/ML/dataset/paddy/Paddy (339).jpg', '/content/drive/MyDrive/Image/ML/dataset/paddy/Paddy (311).jpg', '/content/drive/MyDrive/Image/ML/dataset/paddy/Paddy (334).jpg', '/content/drive/MyDrive/Image/ML/dataset/paddy/Paddy (295).jpg', '/content/drive/MyDrive/Image/ML/dataset/paddy/Paddy (321).jpg', '/content/drive/MyDrive/Image/ML/dataset/paddy/Paddy (308).jpg', '/content/drive/MyDrive/Image/ML/dataset/paddy/Paddy (317).jpg', '/content/drive/MyDrive/Image/ML/dataset/paddy/Paddy (277).jpg', '/content/drive/MyDrive/Image/ML/dataset/paddy/Paddy (329).jpg', '/content/drive/MyDrive/Image/ML/dataset/paddy/Paddy (331).jpg', '/content/drive/MyDrive/Image/ML/dataset/paddy/Paddy (255).jpg', '/content/drive/MyDrive/Image/ML/dataset/paddy/Paddy (261).jpg', '/content/drive/MyDrive/Image/ML/dataset/paddy/Paddy (330).jpg', '/content/drive/MyDrive/Image/ML/dataset/paddy/Paddy (267).jpg', '/content/drive/MyDrive/Image/ML/dataset/paddy/Paddy (278).jpg', '/content/drive/MyDrive/Image/ML/dataset/paddy/Paddy (284).jpg', '/content/drive/MyDrive/Image/ML/dataset/paddy/Paddy (306).jpg', '/content/drive/MyDrive/Image/ML/dataset/paddy/Paddy (270).jpg', '/content/drive/MyDrive/Image/ML/dataset/paddy/Paddy (294).jpg', '/content/drive/MyDrive/Image/ML/dataset/paddy/Paddy (258).jpg', '/content/drive/MyDrive/Image/ML/dataset/paddy/Paddy (283).jpg', '/content/drive/MyDrive/Image/ML/dataset/paddy/Paddy (254).jpg', '/content/drive/MyDrive/Image/ML/dataset/paddy/Paddy (338).jpg', '/content/drive/MyDrive/Image/ML/dataset/paddy/Paddy (257).jpg', '/content/drive/MyDrive/Image/ML/dataset/paddy/Paddy (340).jpg', '/content/drive/MyDrive/Image/ML/dataset/paddy/Paddy (298).jpg', '/content/drive/MyDrive/Image/ML/dataset/paddy/Paddy (266).jpg', '/content/drive/MyDrive/Image/ML/dataset/paddy/Paddy (314).jpg', '/content/drive/MyDrive/Image/ML/dataset/paddy/Paddy (281).jpg', '/content/drive/MyDrive/Image/ML/dataset/paddy/Paddy (274).jpg', '/content/drive/MyDrive/Image/ML/dataset/paddy/Paddy (333).jpg', '/content/drive/MyDrive/Image/ML/dataset/paddy/Paddy (332).jpg', '/content/drive/MyDrive/Image/ML/dataset/paddy/Paddy (290).jpg', '/content/drive/MyDrive/Image/ML/dataset/paddy/Paddy (259).jpg', '/content/drive/MyDrive/Image/ML/dataset/paddy/Paddy (302).jpg', '/content/drive/MyDrive/Image/ML/dataset/paddy/Paddy (265).jpg', '/content/drive/MyDrive/Image/ML/dataset/paddy/Paddy (326).jpg', '/content/drive/MyDrive/Image/ML/dataset/paddy/Paddy (337).jpg', '/content/drive/MyDrive/Image/ML/dataset/paddy/Paddy (275).jpg', '/content/drive/MyDrive/Image/ML/dataset/paddy/Paddy (323).jpg', '/content/drive/MyDrive/Image/ML/dataset/paddy/Paddy (322).jpg', '/content/drive/MyDrive/Image/ML/dataset/paddy/Paddy (315).jpg', '/content/drive/MyDrive/Image/ML/dataset/paddy/Paddy (287).jpg', '/content/drive/MyDrive/Image/ML/dataset/paddy/Paddy (310).jpg', '/content/drive/MyDrive/Image/ML/dataset/paddy/Paddy (273).jpg', '/content/drive/MyDrive/Image/ML/dataset/paddy/Paddy (313).jpg', '/content/drive/MyDrive/Image/ML/dataset/paddy/Paddy (324).jpg', '/content/drive/MyDrive/Image/ML/dataset/paddy/Paddy (285).jpg', '/content/drive/MyDrive/Image/ML/dataset/paddy/Paddy (271).jpg', '/content/drive/MyDrive/Image/ML/dataset/paddy/Paddy (291).jpg', '/content/drive/MyDrive/Image/ML/dataset/paddy/Paddy (269).jpg', '/content/drive/MyDrive/Image/ML/dataset/paddy/Paddy (327).jpg', '/content/drive/MyDrive/Image/ML/dataset/paddy/Paddy (300).jpg', '/content/drive/MyDrive/Image/ML/dataset/paddy/Paddy (405).jpg', '/content/drive/MyDrive/Image/ML/dataset/paddy/Paddy (385).jpg', '/content/drive/MyDrive/Image/ML/dataset/paddy/Paddy (378).jpg', '/content/drive/MyDrive/Image/ML/dataset/paddy/Paddy (410).jpg', '/content/drive/MyDrive/Image/ML/dataset/paddy/Paddy (365).jpg', '/content/drive/MyDrive/Image/ML/dataset/paddy/Paddy (357).jpg', '/content/drive/MyDrive/Image/ML/dataset/paddy/Paddy (373).jpg', '/content/drive/MyDrive/Image/ML/dataset/paddy/Paddy (395).jpg', '/content/drive/MyDrive/Image/ML/dataset/paddy/Paddy (359).jpg', '/content/drive/MyDrive/Image/ML/dataset/paddy/Paddy (402).jpg', '/content/drive/MyDrive/Image/ML/dataset/paddy/Paddy (355).jpg', '/content/drive/MyDrive/Image/ML/dataset/paddy/Paddy (380).jpg', '/content/drive/MyDrive/Image/ML/dataset/paddy/Paddy (423).jpg', '/content/drive/MyDrive/Image/ML/dataset/paddy/Paddy (364).jpg', '/content/drive/MyDrive/Image/ML/dataset/paddy/Paddy (342).jpg', '/content/drive/MyDrive/Image/ML/dataset/paddy/Paddy (349).jpg', '/content/drive/MyDrive/Image/ML/dataset/paddy/Paddy (381).jpg', '/content/drive/MyDrive/Image/ML/dataset/paddy/Paddy (411).jpg', '/content/drive/MyDrive/Image/ML/dataset/paddy/Paddy (418).jpg', '/content/drive/MyDrive/Image/ML/dataset/paddy/Paddy (358).jpg', '/content/drive/MyDrive/Image/ML/dataset/paddy/Paddy (419).jpg', '/content/drive/MyDrive/Image/ML/dataset/paddy/Paddy (341).jpg', '/content/drive/MyDrive/Image/ML/dataset/paddy/Paddy (343).jpg', '/content/drive/MyDrive/Image/ML/dataset/paddy/Paddy (394).jpg', '/content/drive/MyDrive/Image/ML/dataset/paddy/Paddy (409).jpg', '/content/drive/MyDrive/Image/ML/dataset/paddy/Paddy (362).jpg', '/content/drive/MyDrive/Image/ML/dataset/paddy/Paddy (377).jpg', '/content/drive/MyDrive/Image/ML/dataset/paddy/Paddy (427).jpg', '/content/drive/MyDrive/Image/ML/dataset/paddy/Paddy (415).jpg', '/content/drive/MyDrive/Image/ML/dataset/paddy/Paddy (406).jpg', '/content/drive/MyDrive/Image/ML/dataset/paddy/Paddy (361).jpg', '/content/drive/MyDrive/Image/ML/dataset/paddy/Paddy (350).jpg', '/content/drive/MyDrive/Image/ML/dataset/paddy/Paddy (347).jpg', '/content/drive/MyDrive/Image/ML/dataset/paddy/Paddy (386).jpg', '/content/drive/MyDrive/Image/ML/dataset/paddy/Paddy (413).jpg', '/content/drive/MyDrive/Image/ML/dataset/paddy/Paddy (391).jpg', '/content/drive/MyDrive/Image/ML/dataset/paddy/Paddy (429).jpg', '/content/drive/MyDrive/Image/ML/dataset/paddy/Paddy (346).jpg', '/content/drive/MyDrive/Image/ML/dataset/paddy/Paddy (371).jpg', '/content/drive/MyDrive/Image/ML/dataset/paddy/Paddy (366).jpg', '/content/drive/MyDrive/Image/ML/dataset/paddy/Paddy (363).jpg', '/content/drive/MyDrive/Image/ML/dataset/paddy/Paddy (348).jpg', '/content/drive/MyDrive/Image/ML/dataset/paddy/Paddy (417).jpg', '/content/drive/MyDrive/Image/ML/dataset/paddy/Paddy (353).jpg', '/content/drive/MyDrive/Image/ML/dataset/paddy/Paddy (389).jpg', '/content/drive/MyDrive/Image/ML/dataset/paddy/Paddy (374).jpg', '/content/drive/MyDrive/Image/ML/dataset/paddy/Paddy (398).jpg', '/content/drive/MyDrive/Image/ML/dataset/paddy/Paddy (404).jpg', '/content/drive/MyDrive/Image/ML/dataset/paddy/Paddy (397).jpg', '/content/drive/MyDrive/Image/ML/dataset/paddy/Paddy (345).jpg', '/content/drive/MyDrive/Image/ML/dataset/paddy/Paddy (420).jpg', '/content/drive/MyDrive/Image/ML/dataset/paddy/Paddy (407).jpg', '/content/drive/MyDrive/Image/ML/dataset/paddy/Paddy (425).jpg', '/content/drive/MyDrive/Image/ML/dataset/paddy/Paddy (383).jpg', '/content/drive/MyDrive/Image/ML/dataset/paddy/Paddy (393).jpg', '/content/drive/MyDrive/Image/ML/dataset/paddy/Paddy (375).jpg', '/content/drive/MyDrive/Image/ML/dataset/paddy/Paddy (387).jpg', '/content/drive/MyDrive/Image/ML/dataset/paddy/Paddy (399).jpg', '/content/drive/MyDrive/Image/ML/dataset/paddy/Paddy (370).jpg', '/content/drive/MyDrive/Image/ML/dataset/paddy/Paddy (403).jpg', '/content/drive/MyDrive/Image/ML/dataset/paddy/Paddy (351).jpg', '/content/drive/MyDrive/Image/ML/dataset/paddy/Paddy (421).jpg', '/content/drive/MyDrive/Image/ML/dataset/paddy/Paddy (369).jpg', '/content/drive/MyDrive/Image/ML/dataset/paddy/Paddy (382).jpg', '/content/drive/MyDrive/Image/ML/dataset/paddy/Paddy (367).jpg', '/content/drive/MyDrive/Image/ML/dataset/paddy/Paddy (428).jpg', '/content/drive/MyDrive/Image/ML/dataset/paddy/Paddy (354).jpg', '/content/drive/MyDrive/Image/ML/dataset/paddy/Paddy (390).jpg', '/content/drive/MyDrive/Image/ML/dataset/paddy/Paddy (422).jpg', '/content/drive/MyDrive/Image/ML/dataset/paddy/Paddy (372).jpg', '/content/drive/MyDrive/Image/ML/dataset/paddy/Paddy (414).jpg', '/content/drive/MyDrive/Image/ML/dataset/paddy/Paddy (396).jpg', '/content/drive/MyDrive/Image/ML/dataset/paddy/Paddy (426).jpg', '/content/drive/MyDrive/Image/ML/dataset/paddy/Paddy (412).jpg', '/content/drive/MyDrive/Image/ML/dataset/paddy/Paddy (401).jpg', '/content/drive/MyDrive/Image/ML/dataset/paddy/Paddy (379).jpg', '/content/drive/MyDrive/Image/ML/dataset/paddy/Paddy (388).jpg', '/content/drive/MyDrive/Image/ML/dataset/paddy/Paddy (356).jpg', '/content/drive/MyDrive/Image/ML/dataset/paddy/Paddy (471).jpg', '/content/drive/MyDrive/Image/ML/dataset/paddy/Paddy (441).jpg', '/content/drive/MyDrive/Image/ML/dataset/paddy/Paddy (513).jpg', '/content/drive/MyDrive/Image/ML/dataset/paddy/Paddy (462).jpg', '/content/drive/MyDrive/Image/ML/dataset/paddy/Paddy (476).jpg', '/content/drive/MyDrive/Image/ML/dataset/paddy/Paddy (445).jpg', '/content/drive/MyDrive/Image/ML/dataset/paddy/Paddy (511).jpg', '/content/drive/MyDrive/Image/ML/dataset/paddy/Paddy (489).jpg', '/content/drive/MyDrive/Image/ML/dataset/paddy/Paddy (498).jpg', '/content/drive/MyDrive/Image/ML/dataset/paddy/Paddy (486).jpg', '/content/drive/MyDrive/Image/ML/dataset/paddy/Paddy (442).jpg', '/content/drive/MyDrive/Image/ML/dataset/paddy/Paddy (438).jpg', '/content/drive/MyDrive/Image/ML/dataset/paddy/Paddy (481).jpg', '/content/drive/MyDrive/Image/ML/dataset/paddy/Paddy (447).jpg', '/content/drive/MyDrive/Image/ML/dataset/paddy/Paddy (460).jpg', '/content/drive/MyDrive/Image/ML/dataset/paddy/Paddy (453).jpg', '/content/drive/MyDrive/Image/ML/dataset/paddy/Paddy (455).jpg', '/content/drive/MyDrive/Image/ML/dataset/paddy/Paddy (468).jpg', '/content/drive/MyDrive/Image/ML/dataset/paddy/Paddy (454).jpg', '/content/drive/MyDrive/Image/ML/dataset/paddy/Paddy (434).jpg', '/content/drive/MyDrive/Image/ML/dataset/paddy/Paddy (518).jpg', '/content/drive/MyDrive/Image/ML/dataset/paddy/Paddy (492).jpg', '/content/drive/MyDrive/Image/ML/dataset/paddy/Paddy (446).jpg', '/content/drive/MyDrive/Image/ML/dataset/paddy/Paddy (509).jpg', '/content/drive/MyDrive/Image/ML/dataset/paddy/Paddy (452).jpg', '/content/drive/MyDrive/Image/ML/dataset/paddy/Paddy (444).jpg', '/content/drive/MyDrive/Image/ML/dataset/paddy/Paddy (485).jpg', '/content/drive/MyDrive/Image/ML/dataset/paddy/Paddy (465).jpg', '/content/drive/MyDrive/Image/ML/dataset/paddy/Paddy (490).jpg', '/content/drive/MyDrive/Image/ML/dataset/paddy/Paddy (514).jpg', '/content/drive/MyDrive/Image/ML/dataset/paddy/Paddy (470).jpg', '/content/drive/MyDrive/Image/ML/dataset/paddy/Paddy (439).jpg', '/content/drive/MyDrive/Image/ML/dataset/paddy/Paddy (516).jpg', '/content/drive/MyDrive/Image/ML/dataset/paddy/Paddy (449).jpg', '/content/drive/MyDrive/Image/ML/dataset/paddy/Paddy (466).jpg', '/content/drive/MyDrive/Image/ML/dataset/paddy/Paddy (510).jpg', '/content/drive/MyDrive/Image/ML/dataset/paddy/Paddy (436).jpg', '/content/drive/MyDrive/Image/ML/dataset/paddy/Paddy (451).jpg', '/content/drive/MyDrive/Image/ML/dataset/paddy/Paddy (487).jpg', '/content/drive/MyDrive/Image/ML/dataset/paddy/Paddy (502).jpg', '/content/drive/MyDrive/Image/ML/dataset/paddy/Paddy (505).jpg', '/content/drive/MyDrive/Image/ML/dataset/paddy/Paddy (458).jpg', '/content/drive/MyDrive/Image/ML/dataset/paddy/Paddy (437).jpg', '/content/drive/MyDrive/Image/ML/dataset/paddy/Paddy (483).jpg', '/content/drive/MyDrive/Image/ML/dataset/paddy/Paddy (430).jpg', '/content/drive/MyDrive/Image/ML/dataset/paddy/Paddy (506).jpg', '/content/drive/MyDrive/Image/ML/dataset/paddy/Paddy (443).jpg', '/content/drive/MyDrive/Image/ML/dataset/paddy/Paddy (507).jpg', '/content/drive/MyDrive/Image/ML/dataset/paddy/Paddy (497).jpg', '/content/drive/MyDrive/Image/ML/dataset/paddy/Paddy (473).jpg', '/content/drive/MyDrive/Image/ML/dataset/paddy/Paddy (494).jpg', '/content/drive/MyDrive/Image/ML/dataset/paddy/Paddy (508).jpg', '/content/drive/MyDrive/Image/ML/dataset/paddy/Paddy (463).jpg', '/content/drive/MyDrive/Image/ML/dataset/paddy/Paddy (495).jpg', '/content/drive/MyDrive/Image/ML/dataset/paddy/Paddy (491).jpg', '/content/drive/MyDrive/Image/ML/dataset/paddy/Paddy (478).jpg', '/content/drive/MyDrive/Image/ML/dataset/paddy/Paddy (435).jpg', '/content/drive/MyDrive/Image/ML/dataset/paddy/Paddy (482).jpg', '/content/drive/MyDrive/Image/ML/dataset/paddy/Paddy (450).jpg', '/content/drive/MyDrive/Image/ML/dataset/paddy/Paddy (469).jpg', '/content/drive/MyDrive/Image/ML/dataset/paddy/Paddy (467).jpg', '/content/drive/MyDrive/Image/ML/dataset/paddy/Paddy (431).jpg', '/content/drive/MyDrive/Image/ML/dataset/paddy/Paddy (461).jpg', '/content/drive/MyDrive/Image/ML/dataset/paddy/Paddy (477).jpg', '/content/drive/MyDrive/Image/ML/dataset/paddy/Paddy (479).jpg', '/content/drive/MyDrive/Image/ML/dataset/paddy/Paddy (475).jpg', '/content/drive/MyDrive/Image/ML/dataset/paddy/Paddy (457).jpg', '/content/drive/MyDrive/Image/ML/dataset/paddy/Paddy (459).jpg', '/content/drive/MyDrive/Image/ML/dataset/paddy/Paddy (484).jpg', '/content/drive/MyDrive/Image/ML/dataset/paddy/Paddy (493).jpg', '/content/drive/MyDrive/Image/ML/dataset/paddy/Paddy (515).jpg', '/content/drive/MyDrive/Image/ML/dataset/paddy/Paddy (433).jpg', '/content/drive/MyDrive/Image/ML/dataset/paddy/Paddy (503).jpg', '/content/drive/MyDrive/Image/ML/dataset/paddy/Paddy (474).jpg', '/content/drive/MyDrive/Image/ML/dataset/paddy/Paddy (501).jpg', '/content/drive/MyDrive/Image/ML/dataset/paddy/Paddy (499).jpg', '/content/drive/MyDrive/Image/ML/dataset/paddy/Paddy (500).jpg', '/content/drive/MyDrive/Image/ML/dataset/paddy/Paddy (517).jpg', '/content/drive/MyDrive/Image/ML/dataset/Other/Other (1).jpg', '/content/drive/MyDrive/Image/ML/dataset/Other/Other (3).jpg', '/content/drive/MyDrive/Image/ML/dataset/Other/Other (5).jpg', '/content/drive/MyDrive/Image/ML/dataset/Other/Other (2).jpg', '/content/drive/MyDrive/Image/ML/dataset/Other/Other (579).jpg', '/content/drive/MyDrive/Image/ML/dataset/Other/Other (67).jpg', '/content/drive/MyDrive/Image/ML/dataset/Other/Other (54).jpg', '/content/drive/MyDrive/Image/ML/dataset/Other/Other (29).jpg', '/content/drive/MyDrive/Image/ML/dataset/Other/Other (40).jpg', '/content/drive/MyDrive/Image/ML/dataset/Other/Other (77).jpg', '/content/drive/MyDrive/Image/ML/dataset/Other/Other (73).jpg', '/content/drive/MyDrive/Image/ML/dataset/Other/Other (56).jpg', '/content/drive/MyDrive/Image/ML/dataset/Other/Other (33).jpg', '/content/drive/MyDrive/Image/ML/dataset/Other/Other (59).jpg', '/content/drive/MyDrive/Image/ML/dataset/Other/Other (42).jpg', '/content/drive/MyDrive/Image/ML/dataset/Other/Other (63).jpg', '/content/drive/MyDrive/Image/ML/dataset/Other/Other (26).jpg', '/content/drive/MyDrive/Image/ML/dataset/Other/Other (50).jpg', '/content/drive/MyDrive/Image/ML/dataset/Other/Other (46).jpg', '/content/drive/MyDrive/Image/ML/dataset/Other/Other (14).jpg', '/content/drive/MyDrive/Image/ML/dataset/Other/Other (21).jpg', '/content/drive/MyDrive/Image/ML/dataset/Other/Other (15).jpg', '/content/drive/MyDrive/Image/ML/dataset/Other/Other (8).jpg', '/content/drive/MyDrive/Image/ML/dataset/Other/Other (75).jpg', '/content/drive/MyDrive/Image/ML/dataset/Other/Other (24).jpg', '/content/drive/MyDrive/Image/ML/dataset/Other/Other (62).jpg', '/content/drive/MyDrive/Image/ML/dataset/Other/Other (85).jpg', '/content/drive/MyDrive/Image/ML/dataset/Other/Other (30).jpg', '/content/drive/MyDrive/Image/ML/dataset/Other/Other (16).jpg', '/content/drive/MyDrive/Image/ML/dataset/Other/Other (86).jpg', '/content/drive/MyDrive/Image/ML/dataset/Other/Other (35).jpg', '/content/drive/MyDrive/Image/ML/dataset/Other/Other (72).jpg', '/content/drive/MyDrive/Image/ML/dataset/Other/Other (53).jpg', '/content/drive/MyDrive/Image/ML/dataset/Other/Other (90).jpg', '/content/drive/MyDrive/Image/ML/dataset/Other/Other (57).jpg', '/content/drive/MyDrive/Image/ML/dataset/Other/Other (39).jpg', '/content/drive/MyDrive/Image/ML/dataset/Other/Other (79).jpg', '/content/drive/MyDrive/Image/ML/dataset/Other/Other (82).jpg', '/content/drive/MyDrive/Image/ML/dataset/Other/Other (17).jpg', '/content/drive/MyDrive/Image/ML/dataset/Other/Other (34).jpg', '/content/drive/MyDrive/Image/ML/dataset/Other/Other (83).jpg', '/content/drive/MyDrive/Image/ML/dataset/Other/Other (6).jpg', '/content/drive/MyDrive/Image/ML/dataset/Other/Other (64).jpg', '/content/drive/MyDrive/Image/ML/dataset/Other/Other (22).jpg', '/content/drive/MyDrive/Image/ML/dataset/Other/Other (13).jpg', '/content/drive/MyDrive/Image/ML/dataset/Other/Other (51).jpg', '/content/drive/MyDrive/Image/ML/dataset/Other/Other (45).jpg', '/content/drive/MyDrive/Image/ML/dataset/Other/Other (11).jpg', '/content/drive/MyDrive/Image/ML/dataset/Other/Other (32).jpg', '/content/drive/MyDrive/Image/ML/dataset/Other/Other (9).jpg', '/content/drive/MyDrive/Image/ML/dataset/Other/Other (61).jpg', '/content/drive/MyDrive/Image/ML/dataset/Other/Other (10).jpg', '/content/drive/MyDrive/Image/ML/dataset/Other/Other (25).jpg', '/content/drive/MyDrive/Image/ML/dataset/Other/Other (55).jpg', '/content/drive/MyDrive/Image/ML/dataset/Other/Other (38).jpg', '/content/drive/MyDrive/Image/ML/dataset/Other/Other (37).jpg', '/content/drive/MyDrive/Image/ML/dataset/Other/Other (88).jpg', '/content/drive/MyDrive/Image/ML/dataset/Other/Other (23).jpg', '/content/drive/MyDrive/Image/ML/dataset/Other/Other (71).jpg', '/content/drive/MyDrive/Image/ML/dataset/Other/Other (19).jpg', '/content/drive/MyDrive/Image/ML/dataset/Other/Other (31).jpg', '/content/drive/MyDrive/Image/ML/dataset/Other/Other (69).jpg', '/content/drive/MyDrive/Image/ML/dataset/Other/Other (80).jpg', '/content/drive/MyDrive/Image/ML/dataset/Other/Other (78).jpg', '/content/drive/MyDrive/Image/ML/dataset/Other/Other (70).jpg', '/content/drive/MyDrive/Image/ML/dataset/Other/Other (81).jpg', '/content/drive/MyDrive/Image/ML/dataset/Other/Other (47).jpg', '/content/drive/MyDrive/Image/ML/dataset/Other/Other (74).jpg', '/content/drive/MyDrive/Image/ML/dataset/Other/Other (89).jpg', '/content/drive/MyDrive/Image/ML/dataset/Other/Other (43).jpg', '/content/drive/MyDrive/Image/ML/dataset/Other/Other (58).jpg', '/content/drive/MyDrive/Image/ML/dataset/Other/Other (49).jpg', '/content/drive/MyDrive/Image/ML/dataset/Other/Other (7).jpg', '/content/drive/MyDrive/Image/ML/dataset/Other/Other (87).jpg', '/content/drive/MyDrive/Image/ML/dataset/Other/Other (48).jpg', '/content/drive/MyDrive/Image/ML/dataset/Other/Other (65).jpg', '/content/drive/MyDrive/Image/ML/dataset/Other/Other (41).jpg', '/content/drive/MyDrive/Image/ML/dataset/Other/Other (27).jpg', '/content/drive/MyDrive/Image/ML/dataset/Other/Other (66).jpg', '/content/drive/MyDrive/Image/ML/dataset/Other/Other (18).jpg', '/content/drive/MyDrive/Image/ML/dataset/Other/Other (121).jpg', '/content/drive/MyDrive/Image/ML/dataset/Other/Other (163).jpg', '/content/drive/MyDrive/Image/ML/dataset/Other/Other (147).jpg', '/content/drive/MyDrive/Image/ML/dataset/Other/Other (173).jpg', '/content/drive/MyDrive/Image/ML/dataset/Other/Other (94).jpg', '/content/drive/MyDrive/Image/ML/dataset/Other/Other (120).jpg', '/content/drive/MyDrive/Image/ML/dataset/Other/Other (106).jpg', '/content/drive/MyDrive/Image/ML/dataset/Other/Other (155).jpg', '/content/drive/MyDrive/Image/ML/dataset/Other/Other (138).jpg', '/content/drive/MyDrive/Image/ML/dataset/Other/Other (111).jpg', '/content/drive/MyDrive/Image/ML/dataset/Other/Other (134).jpg', '/content/drive/MyDrive/Image/ML/dataset/Other/Other (104).jpg', '/content/drive/MyDrive/Image/ML/dataset/Other/Other (165).jpg', '/content/drive/MyDrive/Image/ML/dataset/Other/Other (146).jpg', '/content/drive/MyDrive/Image/ML/dataset/Other/Other (115).jpg', '/content/drive/MyDrive/Image/ML/dataset/Other/Other (161).jpg', '/content/drive/MyDrive/Image/ML/dataset/Other/Other (137).jpg', '/content/drive/MyDrive/Image/ML/dataset/Other/Other (113).jpg', '/content/drive/MyDrive/Image/ML/dataset/Other/Other (126).jpg', '/content/drive/MyDrive/Image/ML/dataset/Other/Other (105).jpg', '/content/drive/MyDrive/Image/ML/dataset/Other/Other (95).jpg', '/content/drive/MyDrive/Image/ML/dataset/Other/Other (114).jpg', '/content/drive/MyDrive/Image/ML/dataset/Other/Other (107).jpg', '/content/drive/MyDrive/Image/ML/dataset/Other/Other (167).jpg', '/content/drive/MyDrive/Image/ML/dataset/Other/Other (170).jpg', '/content/drive/MyDrive/Image/ML/dataset/Other/Other (118).jpg', '/content/drive/MyDrive/Image/ML/dataset/Other/Other (166).jpg', '/content/drive/MyDrive/Image/ML/dataset/Other/Other (149).jpg', '/content/drive/MyDrive/Image/ML/dataset/Other/Other (150).jpg', '/content/drive/MyDrive/Image/ML/dataset/Other/Other (97).jpg', '/content/drive/MyDrive/Image/ML/dataset/Other/Other (127).jpg', '/content/drive/MyDrive/Image/ML/dataset/Other/Other (175).jpg', '/content/drive/MyDrive/Image/ML/dataset/Other/Other (128).jpg', '/content/drive/MyDrive/Image/ML/dataset/Other/Other (160).jpg', '/content/drive/MyDrive/Image/ML/dataset/Other/Other (169).jpg', '/content/drive/MyDrive/Image/ML/dataset/Other/Other (99).jpg', '/content/drive/MyDrive/Image/ML/dataset/Other/Other (159).jpg', '/content/drive/MyDrive/Image/ML/dataset/Other/Other (171).jpg', '/content/drive/MyDrive/Image/ML/dataset/Other/Other (122).jpg', '/content/drive/MyDrive/Image/ML/dataset/Other/Other (152).jpg', '/content/drive/MyDrive/Image/ML/dataset/Other/Other (157).jpg', '/content/drive/MyDrive/Image/ML/dataset/Other/Other (117).jpg', '/content/drive/MyDrive/Image/ML/dataset/Other/Other (136).jpg', '/content/drive/MyDrive/Image/ML/dataset/Other/Other (125).jpg', '/content/drive/MyDrive/Image/ML/dataset/Other/Other (103).jpg', '/content/drive/MyDrive/Image/ML/dataset/Other/Other (93).jpg', '/content/drive/MyDrive/Image/ML/dataset/Other/Other (168).jpg', '/content/drive/MyDrive/Image/ML/dataset/Other/Other (129).jpg', '/content/drive/MyDrive/Image/ML/dataset/Other/Other (96).jpg', '/content/drive/MyDrive/Image/ML/dataset/Other/Other (151).jpg', '/content/drive/MyDrive/Image/ML/dataset/Other/Other (174).jpg', '/content/drive/MyDrive/Image/ML/dataset/Other/Other (143).jpg', '/content/drive/MyDrive/Image/ML/dataset/Other/Other (141).jpg', '/content/drive/MyDrive/Image/ML/dataset/Other/Other (144).jpg', '/content/drive/MyDrive/Image/ML/dataset/Other/Other (130).jpg', '/content/drive/MyDrive/Image/ML/dataset/Other/Other (112).jpg', '/content/drive/MyDrive/Image/ML/dataset/Other/Other (119).jpg', '/content/drive/MyDrive/Image/ML/dataset/Other/Other (91).jpg', '/content/drive/MyDrive/Image/ML/dataset/Other/Other (110).jpg', '/content/drive/MyDrive/Image/ML/dataset/Other/Other (154).jpg', '/content/drive/MyDrive/Image/ML/dataset/Other/Other (135).jpg', '/content/drive/MyDrive/Image/ML/dataset/Other/Other (145).jpg', '/content/drive/MyDrive/Image/ML/dataset/Other/Other (133).jpg', '/content/drive/MyDrive/Image/ML/dataset/Other/Other (98).jpg', '/content/drive/MyDrive/Image/ML/dataset/Other/Other (139).jpg', '/content/drive/MyDrive/Image/ML/dataset/Other/Other (153).jpg', '/content/drive/MyDrive/Image/ML/dataset/Other/Other (101).jpg', '/content/drive/MyDrive/Image/ML/dataset/Other/Other (162).jpg', '/content/drive/MyDrive/Image/ML/dataset/Other/Other (109).jpg', '/content/drive/MyDrive/Image/ML/dataset/Other/Other (131).jpg', '/content/drive/MyDrive/Image/ML/dataset/Other/Other (123).jpg', '/content/drive/MyDrive/Image/ML/dataset/Other/Other (158).jpg', '/content/drive/MyDrive/Image/ML/dataset/Other/Other (102).jpg', '/content/drive/MyDrive/Image/ML/dataset/Other/Other (142).jpg', '/content/drive/MyDrive/Image/ML/dataset/Other/Other (242).jpg', '/content/drive/MyDrive/Image/ML/dataset/Other/Other (200).jpg', '/content/drive/MyDrive/Image/ML/dataset/Other/Other (226).jpg', '/content/drive/MyDrive/Image/ML/dataset/Other/Other (225).jpg', '/content/drive/MyDrive/Image/ML/dataset/Other/Other (229).jpg', '/content/drive/MyDrive/Image/ML/dataset/Other/Other (243).jpg', '/content/drive/MyDrive/Image/ML/dataset/Other/Other (202).jpg', '/content/drive/MyDrive/Image/ML/dataset/Other/Other (224).jpg', '/content/drive/MyDrive/Image/ML/dataset/Other/Other (177).jpg', '/content/drive/MyDrive/Image/ML/dataset/Other/Other (233).jpg', '/content/drive/MyDrive/Image/ML/dataset/Other/Other (239).jpg', '/content/drive/MyDrive/Image/ML/dataset/Other/Other (211).jpg', '/content/drive/MyDrive/Image/ML/dataset/Other/Other (179).jpg', '/content/drive/MyDrive/Image/ML/dataset/Other/Other (184).jpg', '/content/drive/MyDrive/Image/ML/dataset/Other/Other (219).jpg', '/content/drive/MyDrive/Image/ML/dataset/Other/Other (192).jpg', '/content/drive/MyDrive/Image/ML/dataset/Other/Other (247).jpg', '/content/drive/MyDrive/Image/ML/dataset/Other/Other (245).jpg', '/content/drive/MyDrive/Image/ML/dataset/Other/Other (189).jpg', '/content/drive/MyDrive/Image/ML/dataset/Other/Other (193).jpg', '/content/drive/MyDrive/Image/ML/dataset/Other/Other (199).jpg', '/content/drive/MyDrive/Image/ML/dataset/Other/Other (215).jpg', '/content/drive/MyDrive/Image/ML/dataset/Other/Other (206).jpg', '/content/drive/MyDrive/Image/ML/dataset/Other/Other (187).jpg', '/content/drive/MyDrive/Image/ML/dataset/Other/Other (240).jpg', '/content/drive/MyDrive/Image/ML/dataset/Other/Other (210).jpg', '/content/drive/MyDrive/Image/ML/dataset/Other/Other (230).jpg', '/content/drive/MyDrive/Image/ML/dataset/Other/Other (207).jpg', '/content/drive/MyDrive/Image/ML/dataset/Other/Other (203).jpg', '/content/drive/MyDrive/Image/ML/dataset/Other/Other (231).jpg', '/content/drive/MyDrive/Image/ML/dataset/Other/Other (208).jpg', '/content/drive/MyDrive/Image/ML/dataset/Other/Other (222).jpg', '/content/drive/MyDrive/Image/ML/dataset/Other/Other (197).jpg', '/content/drive/MyDrive/Image/ML/dataset/Other/Other (241).jpg', '/content/drive/MyDrive/Image/ML/dataset/Other/Other (223).jpg', '/content/drive/MyDrive/Image/ML/dataset/Other/Other (238).jpg', '/content/drive/MyDrive/Image/ML/dataset/Other/Other (178).jpg', '/content/drive/MyDrive/Image/ML/dataset/Other/Other (218).jpg', '/content/drive/MyDrive/Image/ML/dataset/Other/Other (213).jpg', '/content/drive/MyDrive/Image/ML/dataset/Other/Other (186).jpg', '/content/drive/MyDrive/Image/ML/dataset/Other/Other (234).jpg', '/content/drive/MyDrive/Image/ML/dataset/Other/Other (248).jpg', '/content/drive/MyDrive/Image/ML/dataset/Other/Other (249).jpg', '/content/drive/MyDrive/Image/ML/dataset/Other/Other (183).jpg', '/content/drive/MyDrive/Image/ML/dataset/Other/Other (258).jpg', '/content/drive/MyDrive/Image/ML/dataset/Other/Other (194).jpg', '/content/drive/MyDrive/Image/ML/dataset/Other/Other (209).jpg', '/content/drive/MyDrive/Image/ML/dataset/Other/Other (185).jpg', '/content/drive/MyDrive/Image/ML/dataset/Other/Other (251).jpg', '/content/drive/MyDrive/Image/ML/dataset/Other/Other (191).jpg', '/content/drive/MyDrive/Image/ML/dataset/Other/Other (259).jpg', '/content/drive/MyDrive/Image/ML/dataset/Other/Other (198).jpg', '/content/drive/MyDrive/Image/ML/dataset/Other/Other (253).jpg', '/content/drive/MyDrive/Image/ML/dataset/Other/Other (217).jpg', '/content/drive/MyDrive/Image/ML/dataset/Other/Other (250).jpg', '/content/drive/MyDrive/Image/ML/dataset/Other/Other (195).jpg', '/content/drive/MyDrive/Image/ML/dataset/Other/Other (190).jpg', '/content/drive/MyDrive/Image/ML/dataset/Other/Other (221).jpg', '/content/drive/MyDrive/Image/ML/dataset/Other/Other (261).jpg', '/content/drive/MyDrive/Image/ML/dataset/Other/Other (235).jpg', '/content/drive/MyDrive/Image/ML/dataset/Other/Other (201).jpg', '/content/drive/MyDrive/Image/ML/dataset/Other/Other (254).jpg', '/content/drive/MyDrive/Image/ML/dataset/Other/Other (214).jpg', '/content/drive/MyDrive/Image/ML/dataset/Other/Other (227).jpg', '/content/drive/MyDrive/Image/ML/dataset/Other/Other (176).jpg', '/content/drive/MyDrive/Image/ML/dataset/Other/Other (205).jpg', '/content/drive/MyDrive/Image/ML/dataset/Other/Other (182).jpg', '/content/drive/MyDrive/Image/ML/dataset/Other/Other (257).jpg', '/content/drive/MyDrive/Image/ML/dataset/Other/Other (255).jpg', '/content/drive/MyDrive/Image/ML/dataset/Other/Other (237).jpg', '/content/drive/MyDrive/Image/ML/dataset/Other/Other (181).jpg', '/content/drive/MyDrive/Image/ML/dataset/Other/Other (256).jpg', '/content/drive/MyDrive/Image/ML/dataset/Other/Other (246).jpg', '/content/drive/MyDrive/Image/ML/dataset/Other/Other (232).jpg', '/content/drive/MyDrive/Image/ML/dataset/Other/Other (216).jpg', '/content/drive/MyDrive/Image/ML/dataset/Other/Other (280).jpg', '/content/drive/MyDrive/Image/ML/dataset/Other/Other (327).jpg', '/content/drive/MyDrive/Image/ML/dataset/Other/Other (337).jpg', '/content/drive/MyDrive/Image/ML/dataset/Other/Other (265).jpg', '/content/drive/MyDrive/Image/ML/dataset/Other/Other (331).jpg', '/content/drive/MyDrive/Image/ML/dataset/Other/Other (343).jpg', '/content/drive/MyDrive/Image/ML/dataset/Other/Other (313).jpg', '/content/drive/MyDrive/Image/ML/dataset/Other/Other (297).jpg', '/content/drive/MyDrive/Image/ML/dataset/Other/Other (341).jpg', '/content/drive/MyDrive/Image/ML/dataset/Other/Other (322).jpg', '/content/drive/MyDrive/Image/ML/dataset/Other/Other (311).jpg', '/content/drive/MyDrive/Image/ML/dataset/Other/Other (285).jpg', '/content/drive/MyDrive/Image/ML/dataset/Other/Other (333).jpg', '/content/drive/MyDrive/Image/ML/dataset/Other/Other (262).jpg', '/content/drive/MyDrive/Image/ML/dataset/Other/Other (291).jpg', '/content/drive/MyDrive/Image/ML/dataset/Other/Other (288).jpg', '/content/drive/MyDrive/Image/ML/dataset/Other/Other (347).jpg', '/content/drive/MyDrive/Image/ML/dataset/Other/Other (264).jpg', '/content/drive/MyDrive/Image/ML/dataset/Other/Other (283).jpg', '/content/drive/MyDrive/Image/ML/dataset/Other/Other (295).jpg', '/content/drive/MyDrive/Image/ML/dataset/Other/Other (342).jpg', '/content/drive/MyDrive/Image/ML/dataset/Other/Other (263).jpg', '/content/drive/MyDrive/Image/ML/dataset/Other/Other (303).jpg', '/content/drive/MyDrive/Image/ML/dataset/Other/Other (279).jpg', '/content/drive/MyDrive/Image/ML/dataset/Other/Other (339).jpg', '/content/drive/MyDrive/Image/ML/dataset/Other/Other (310).jpg', '/content/drive/MyDrive/Image/ML/dataset/Other/Other (277).jpg', '/content/drive/MyDrive/Image/ML/dataset/Other/Other (315).jpg', '/content/drive/MyDrive/Image/ML/dataset/Other/Other (335).jpg', '/content/drive/MyDrive/Image/ML/dataset/Other/Other (329).jpg', '/content/drive/MyDrive/Image/ML/dataset/Other/Other (267).jpg', '/content/drive/MyDrive/Image/ML/dataset/Other/Other (325).jpg', '/content/drive/MyDrive/Image/ML/dataset/Other/Other (281).jpg', '/content/drive/MyDrive/Image/ML/dataset/Other/Other (296).jpg', '/content/drive/MyDrive/Image/ML/dataset/Other/Other (273).jpg', '/content/drive/MyDrive/Image/ML/dataset/Other/Other (293).jpg', '/content/drive/MyDrive/Image/ML/dataset/Other/Other (272).jpg', '/content/drive/MyDrive/Image/ML/dataset/Other/Other (336).jpg', '/content/drive/MyDrive/Image/ML/dataset/Other/Other (309).jpg', '/content/drive/MyDrive/Image/ML/dataset/Other/Other (275).jpg', '/content/drive/MyDrive/Image/ML/dataset/Other/Other (290).jpg', '/content/drive/MyDrive/Image/ML/dataset/Other/Other (328).jpg', '/content/drive/MyDrive/Image/ML/dataset/Other/Other (299).jpg', '/content/drive/MyDrive/Image/ML/dataset/Other/Other (269).jpg', '/content/drive/MyDrive/Image/ML/dataset/Other/Other (334).jpg', '/content/drive/MyDrive/Image/ML/dataset/Other/Other (314).jpg', '/content/drive/MyDrive/Image/ML/dataset/Other/Other (312).jpg', '/content/drive/MyDrive/Image/ML/dataset/Other/Other (320).jpg', '/content/drive/MyDrive/Image/ML/dataset/Other/Other (298).jpg', '/content/drive/MyDrive/Image/ML/dataset/Other/Other (346).jpg', '/content/drive/MyDrive/Image/ML/dataset/Other/Other (270).jpg', '/content/drive/MyDrive/Image/ML/dataset/Other/Other (289).jpg', '/content/drive/MyDrive/Image/ML/dataset/Other/Other (304).jpg', '/content/drive/MyDrive/Image/ML/dataset/Other/Other (274).jpg', '/content/drive/MyDrive/Image/ML/dataset/Other/Other (286).jpg', '/content/drive/MyDrive/Image/ML/dataset/Other/Other (301).jpg', '/content/drive/MyDrive/Image/ML/dataset/Other/Other (266).jpg', '/content/drive/MyDrive/Image/ML/dataset/Other/Other (271).jpg', '/content/drive/MyDrive/Image/ML/dataset/Other/Other (282).jpg', '/content/drive/MyDrive/Image/ML/dataset/Other/Other (326).jpg', '/content/drive/MyDrive/Image/ML/dataset/Other/Other (323).jpg', '/content/drive/MyDrive/Image/ML/dataset/Other/Other (345).jpg', '/content/drive/MyDrive/Image/ML/dataset/Other/Other (338).jpg', '/content/drive/MyDrive/Image/ML/dataset/Other/Other (306).jpg', '/content/drive/MyDrive/Image/ML/dataset/Other/Other (318).jpg', '/content/drive/MyDrive/Image/ML/dataset/Other/Other (321).jpg', '/content/drive/MyDrive/Image/ML/dataset/Other/Other (287).jpg', '/content/drive/MyDrive/Image/ML/dataset/Other/Other (319).jpg', '/content/drive/MyDrive/Image/ML/dataset/Other/Other (302).jpg', '/content/drive/MyDrive/Image/ML/dataset/Other/Other (330).jpg', '/content/drive/MyDrive/Image/ML/dataset/Other/Other (317).jpg', '/content/drive/MyDrive/Image/ML/dataset/Other/Other (305).jpg', '/content/drive/MyDrive/Image/ML/dataset/Other/Other (344).jpg', '/content/drive/MyDrive/Image/ML/dataset/Other/Other (278).jpg', '/content/drive/MyDrive/Image/ML/dataset/Other/Other (307).jpg', '/content/drive/MyDrive/Image/ML/dataset/Other/Other (294).jpg', '/content/drive/MyDrive/Image/ML/dataset/Other/Other (353).jpg', '/content/drive/MyDrive/Image/ML/dataset/Other/Other (434).jpg', '/content/drive/MyDrive/Image/ML/dataset/Other/Other (358).jpg', '/content/drive/MyDrive/Image/ML/dataset/Other/Other (402).jpg', '/content/drive/MyDrive/Image/ML/dataset/Other/Other (418).jpg', '/content/drive/MyDrive/Image/ML/dataset/Other/Other (403).jpg', '/content/drive/MyDrive/Image/ML/dataset/Other/Other (421).jpg', '/content/drive/MyDrive/Image/ML/dataset/Other/Other (392).jpg', '/content/drive/MyDrive/Image/ML/dataset/Other/Other (363).jpg', '/content/drive/MyDrive/Image/ML/dataset/Other/Other (365).jpg', '/content/drive/MyDrive/Image/ML/dataset/Other/Other (385).jpg', '/content/drive/MyDrive/Image/ML/dataset/Other/Other (432).jpg', '/content/drive/MyDrive/Image/ML/dataset/Other/Other (384).jpg', '/content/drive/MyDrive/Image/ML/dataset/Other/Other (371).jpg', '/content/drive/MyDrive/Image/ML/dataset/Other/Other (360).jpg', '/content/drive/MyDrive/Image/ML/dataset/Other/Other (405).jpg', '/content/drive/MyDrive/Image/ML/dataset/Other/Other (399).jpg', '/content/drive/MyDrive/Image/ML/dataset/Other/Other (430).jpg', '/content/drive/MyDrive/Image/ML/dataset/Other/Other (370).jpg', '/content/drive/MyDrive/Image/ML/dataset/Other/Other (409).jpg', '/content/drive/MyDrive/Image/ML/dataset/Other/Other (366).jpg', '/content/drive/MyDrive/Image/ML/dataset/Other/Other (381).jpg', '/content/drive/MyDrive/Image/ML/dataset/Other/Other (398).jpg', '/content/drive/MyDrive/Image/ML/dataset/Other/Other (415).jpg', '/content/drive/MyDrive/Image/ML/dataset/Other/Other (354).jpg', '/content/drive/MyDrive/Image/ML/dataset/Other/Other (390).jpg', '/content/drive/MyDrive/Image/ML/dataset/Other/Other (351).jpg', '/content/drive/MyDrive/Image/ML/dataset/Other/Other (407).jpg', '/content/drive/MyDrive/Image/ML/dataset/Other/Other (377).jpg', '/content/drive/MyDrive/Image/ML/dataset/Other/Other (359).jpg', '/content/drive/MyDrive/Image/ML/dataset/Other/Other (429).jpg', '/content/drive/MyDrive/Image/ML/dataset/Other/Other (425).jpg', '/content/drive/MyDrive/Image/ML/dataset/Other/Other (416).jpg', '/content/drive/MyDrive/Image/ML/dataset/Other/Other (361).jpg', '/content/drive/MyDrive/Image/ML/dataset/Other/Other (424).jpg', '/content/drive/MyDrive/Image/ML/dataset/Other/Other (378).jpg', '/content/drive/MyDrive/Image/ML/dataset/Other/Other (408).jpg', '/content/drive/MyDrive/Image/ML/dataset/Other/Other (362).jpg', '/content/drive/MyDrive/Image/ML/dataset/Other/Other (422).jpg', '/content/drive/MyDrive/Image/ML/dataset/Other/Other (419).jpg', '/content/drive/MyDrive/Image/ML/dataset/Other/Other (391).jpg', '/content/drive/MyDrive/Image/ML/dataset/Other/Other (394).jpg', '/content/drive/MyDrive/Image/ML/dataset/Other/Other (374).jpg', '/content/drive/MyDrive/Image/ML/dataset/Other/Other (393).jpg', '/content/drive/MyDrive/Image/ML/dataset/Other/Other (383).jpg', '/content/drive/MyDrive/Image/ML/dataset/Other/Other (382).jpg', '/content/drive/MyDrive/Image/ML/dataset/Other/Other (379).jpg', '/content/drive/MyDrive/Image/ML/dataset/Other/Other (417).jpg', '/content/drive/MyDrive/Image/ML/dataset/Other/Other (352).jpg', '/content/drive/MyDrive/Image/ML/dataset/Other/Other (369).jpg', '/content/drive/MyDrive/Image/ML/dataset/Other/Other (355).jpg', '/content/drive/MyDrive/Image/ML/dataset/Other/Other (350).jpg', '/content/drive/MyDrive/Image/ML/dataset/Other/Other (373).jpg', '/content/drive/MyDrive/Image/ML/dataset/Other/Other (389).jpg', '/content/drive/MyDrive/Image/ML/dataset/Other/Other (375).jpg', '/content/drive/MyDrive/Image/ML/dataset/Other/Other (368).jpg', '/content/drive/MyDrive/Image/ML/dataset/Other/Other (386).jpg', '/content/drive/MyDrive/Image/ML/dataset/Other/Other (426).jpg', '/content/drive/MyDrive/Image/ML/dataset/Other/Other (349).jpg', '/content/drive/MyDrive/Image/ML/dataset/Other/Other (395).jpg', '/content/drive/MyDrive/Image/ML/dataset/Other/Other (367).jpg', '/content/drive/MyDrive/Image/ML/dataset/Other/Other (376).jpg', '/content/drive/MyDrive/Image/ML/dataset/Other/Other (413).jpg', '/content/drive/MyDrive/Image/ML/dataset/Other/Other (401).jpg', '/content/drive/MyDrive/Image/ML/dataset/Other/Other (406).jpg', '/content/drive/MyDrive/Image/ML/dataset/Other/Other (411).jpg', '/content/drive/MyDrive/Image/ML/dataset/Other/Other (410).jpg', '/content/drive/MyDrive/Image/ML/dataset/Other/Other (433).jpg', '/content/drive/MyDrive/Image/ML/dataset/Other/Other (431).jpg', '/content/drive/MyDrive/Image/ML/dataset/Other/Other (397).jpg', '/content/drive/MyDrive/Image/ML/dataset/Other/Other (400).jpg', '/content/drive/MyDrive/Image/ML/dataset/Other/Other (387).jpg', '/content/drive/MyDrive/Image/ML/dataset/Other/Other (427).jpg', '/content/drive/MyDrive/Image/ML/dataset/Other/Other (414).jpg', '/content/drive/MyDrive/Image/ML/dataset/Other/Other (423).jpg', '/content/drive/MyDrive/Image/ML/dataset/Other/Other (357).jpg', '/content/drive/MyDrive/Image/ML/dataset/Other/Other (473).jpg', '/content/drive/MyDrive/Image/ML/dataset/Other/Other (459).jpg', '/content/drive/MyDrive/Image/ML/dataset/Other/Other (471).jpg', '/content/drive/MyDrive/Image/ML/dataset/Other/Other (498).jpg', '/content/drive/MyDrive/Image/ML/dataset/Other/Other (496).jpg', '/content/drive/MyDrive/Image/ML/dataset/Other/Other (462).jpg', '/content/drive/MyDrive/Image/ML/dataset/Other/Other (440).jpg', '/content/drive/MyDrive/Image/ML/dataset/Other/Other (509).jpg', '/content/drive/MyDrive/Image/ML/dataset/Other/Other (449).jpg', '/content/drive/MyDrive/Image/ML/dataset/Other/Other (447).jpg', '/content/drive/MyDrive/Image/ML/dataset/Other/Other (448).jpg', '/content/drive/MyDrive/Image/ML/dataset/Other/Other (450).jpg', '/content/drive/MyDrive/Image/ML/dataset/Other/Other (497).jpg', '/content/drive/MyDrive/Image/ML/dataset/Other/Other (501).jpg', '/content/drive/MyDrive/Image/ML/dataset/Other/Other (445).jpg', '/content/drive/MyDrive/Image/ML/dataset/Other/Other (479).jpg', '/content/drive/MyDrive/Image/ML/dataset/Other/Other (477).jpg', '/content/drive/MyDrive/Image/ML/dataset/Other/Other (504).jpg', '/content/drive/MyDrive/Image/ML/dataset/Other/Other (454).jpg', '/content/drive/MyDrive/Image/ML/dataset/Other/Other (512).jpg', '/content/drive/MyDrive/Image/ML/dataset/Other/Other (441).jpg', '/content/drive/MyDrive/Image/ML/dataset/Other/Other (466).jpg', '/content/drive/MyDrive/Image/ML/dataset/Other/Other (487).jpg', '/content/drive/MyDrive/Image/ML/dataset/Other/Other (503).jpg', '/content/drive/MyDrive/Image/ML/dataset/Other/Other (489).jpg', '/content/drive/MyDrive/Image/ML/dataset/Other/Other (480).jpg', '/content/drive/MyDrive/Image/ML/dataset/Other/Other (507).jpg', '/content/drive/MyDrive/Image/ML/dataset/Other/Other (520).jpg', '/content/drive/MyDrive/Image/ML/dataset/Other/Other (513).jpg', '/content/drive/MyDrive/Image/ML/dataset/Other/Other (439).jpg', '/content/drive/MyDrive/Image/ML/dataset/Other/Other (493).jpg', '/content/drive/MyDrive/Image/ML/dataset/Other/Other (481).jpg', '/content/drive/MyDrive/Image/ML/dataset/Other/Other (511).jpg', '/content/drive/MyDrive/Image/ML/dataset/Other/Other (464).jpg', '/content/drive/MyDrive/Image/ML/dataset/Other/Other (510).jpg', '/content/drive/MyDrive/Image/ML/dataset/Other/Other (453).jpg', '/content/drive/MyDrive/Image/ML/dataset/Other/Other (467).jpg', '/content/drive/MyDrive/Image/ML/dataset/Other/Other (475).jpg', '/content/drive/MyDrive/Image/ML/dataset/Other/Other (482).jpg', '/content/drive/MyDrive/Image/ML/dataset/Other/Other (485).jpg', '/content/drive/MyDrive/Image/ML/dataset/Other/Other (517).jpg', '/content/drive/MyDrive/Image/ML/dataset/Other/Other (469).jpg', '/content/drive/MyDrive/Image/ML/dataset/Other/Other (515).jpg', '/content/drive/MyDrive/Image/ML/dataset/Other/Other (455).jpg', '/content/drive/MyDrive/Image/ML/dataset/Other/Other (495).jpg', '/content/drive/MyDrive/Image/ML/dataset/Other/Other (491).jpg', '/content/drive/MyDrive/Image/ML/dataset/Other/Other (486).jpg', '/content/drive/MyDrive/Image/ML/dataset/Other/Other (458).jpg', '/content/drive/MyDrive/Image/ML/dataset/Other/Other (518).jpg', '/content/drive/MyDrive/Image/ML/dataset/Other/Other (502).jpg', '/content/drive/MyDrive/Image/ML/dataset/Other/Other (478).jpg', '/content/drive/MyDrive/Image/ML/dataset/Other/Other (483).jpg', '/content/drive/MyDrive/Image/ML/dataset/Other/Other (488).jpg', '/content/drive/MyDrive/Image/ML/dataset/Other/Other (451).jpg', '/content/drive/MyDrive/Image/ML/dataset/Other/Other (465).jpg', '/content/drive/MyDrive/Image/ML/dataset/Other/Other (506).jpg', '/content/drive/MyDrive/Image/ML/dataset/Other/Other (474).jpg', '/content/drive/MyDrive/Image/ML/dataset/Other/Other (472).jpg', '/content/drive/MyDrive/Image/ML/dataset/Other/Other (457).jpg', '/content/drive/MyDrive/Image/ML/dataset/Other/Other (505).jpg', '/content/drive/MyDrive/Image/ML/dataset/Other/Other (442).jpg', '/content/drive/MyDrive/Image/ML/dataset/Other/Other (470).jpg', '/content/drive/MyDrive/Image/ML/dataset/Other/Other (435).jpg', '/content/drive/MyDrive/Image/ML/dataset/Other/Other (494).jpg', '/content/drive/MyDrive/Image/ML/dataset/Other/Other (446).jpg', '/content/drive/MyDrive/Image/ML/dataset/Other/Other (443).jpg', '/content/drive/MyDrive/Image/ML/dataset/Other/Other (463).jpg', '/content/drive/MyDrive/Image/ML/dataset/Other/Other (461).jpg', '/content/drive/MyDrive/Image/ML/dataset/Other/Other (519).jpg', '/content/drive/MyDrive/Image/ML/dataset/Other/Other (437).jpg', '/content/drive/MyDrive/Image/ML/dataset/Other/Other (499).jpg', '/content/drive/MyDrive/Image/ML/dataset/Other/Other (456).jpg', '/content/drive/MyDrive/Image/ML/dataset/Other/Other (514).jpg', '/content/drive/MyDrive/Image/ML/dataset/Other/Other (438).jpg', '/content/drive/MyDrive/Image/ML/dataset/Other/Other (490).jpg', '/content/drive/MyDrive/Image/ML/dataset/Other/Other (574).jpg', '/content/drive/MyDrive/Image/ML/dataset/Other/Other (543).jpg', '/content/drive/MyDrive/Image/ML/dataset/Other/Other (544).jpg', '/content/drive/MyDrive/Image/ML/dataset/Other/Other (557).jpg', '/content/drive/MyDrive/Image/ML/dataset/Other/Other (554).jpg', '/content/drive/MyDrive/Image/ML/dataset/Other/Other (566).jpg', '/content/drive/MyDrive/Image/ML/dataset/Other/Other (531).jpg', '/content/drive/MyDrive/Image/ML/dataset/Other/Other (561).jpg', '/content/drive/MyDrive/Image/ML/dataset/Other/Other (530).jpg', '/content/drive/MyDrive/Image/ML/dataset/Other/Other (522).jpg', '/content/drive/MyDrive/Image/ML/dataset/Other/Other (538).jpg', '/content/drive/MyDrive/Image/ML/dataset/Other/Other (549).jpg', '/content/drive/MyDrive/Image/ML/dataset/Other/Other (546).jpg', '/content/drive/MyDrive/Image/ML/dataset/Other/Other (553).jpg', '/content/drive/MyDrive/Image/ML/dataset/Other/Other (573).jpg', '/content/drive/MyDrive/Image/ML/dataset/Other/Other (570).jpg', '/content/drive/MyDrive/Image/ML/dataset/Other/Other (551).jpg', '/content/drive/MyDrive/Image/ML/dataset/Other/Other (567).jpg', '/content/drive/MyDrive/Image/ML/dataset/Other/Other (578).jpg', '/content/drive/MyDrive/Image/ML/dataset/Other/Other (537).jpg', '/content/drive/MyDrive/Image/ML/dataset/Other/Other (539).jpg', '/content/drive/MyDrive/Image/ML/dataset/Other/Other (536).jpg', '/content/drive/MyDrive/Image/ML/dataset/Other/Other (575).jpg', '/content/drive/MyDrive/Image/ML/dataset/Other/Other (542).jpg', '/content/drive/MyDrive/Image/ML/dataset/Other/Other (523).jpg', '/content/drive/MyDrive/Image/ML/dataset/Other/Other (571).jpg', '/content/drive/MyDrive/Image/ML/dataset/Other/Other (565).jpg', '/content/drive/MyDrive/Image/ML/dataset/Other/Other (555).jpg', '/content/drive/MyDrive/Image/ML/dataset/Other/Other (529).jpg', '/content/drive/MyDrive/Image/ML/dataset/Other/Other (533).jpg', '/content/drive/MyDrive/Image/ML/dataset/Other/Other (576).jpg', '/content/drive/MyDrive/Image/ML/dataset/Other/Other (550).jpg', '/content/drive/MyDrive/Image/ML/dataset/Other/Other (527).jpg', '/content/drive/MyDrive/Image/ML/dataset/Other/Other (534).jpg', '/content/drive/MyDrive/Image/ML/dataset/Other/Other (568).jpg', '/content/drive/MyDrive/Image/ML/dataset/Other/Other (545).jpg', '/content/drive/MyDrive/Image/ML/dataset/Other/Other (552).jpg', '/content/drive/MyDrive/Image/ML/dataset/Other/Other (558).jpg', '/content/drive/MyDrive/Image/ML/dataset/Other/Other (577).jpg', '/content/drive/MyDrive/Image/ML/dataset/Other/Other (525).jpg', '/content/drive/MyDrive/Image/ML/dataset/Other/Other (562).jpg', '/content/drive/MyDrive/Image/ML/dataset/Other/Other (526).jpg', '/content/drive/MyDrive/Image/ML/dataset/Other/Other (528).jpg', '/content/drive/MyDrive/Image/ML/dataset/Other/Other (547).jpg', '/content/drive/MyDrive/Image/ML/dataset/Other/Other (563).jpg', '/content/drive/MyDrive/Image/ML/dataset/Other/Other (559).jpg', '/content/drive/MyDrive/Image/ML/dataset/Other/Other (560).jpg', '/content/drive/MyDrive/Image/ML/dataset/Other/Other (569).jpg', '/content/drive/MyDrive/Image/ML/dataset/Other/Other (535).jpg', '/content/drive/MyDrive/Image/ML/dataset/Other/Other (521).jpg', '/content/drive/MyDrive/Image/ML/dataset/Other/Other (541).jpg']\n"
          ]
        }
      ],
      "source": [
        "#To set path of the images from the Google Drive\n",
        "imagePaths = getListOfFiles(\"/content/drive/MyDrive/Image/ML/dataset\")## Folder structure: dataset --> sub-folders with labels name\n",
        "print(imagePaths)"
      ]
    },
    {
      "cell_type": "code",
      "execution_count": null,
      "metadata": {
        "id": "awEFQiaUo83s"
      },
      "outputs": [],
      "source": [
        "#To read and preprocess image data\n",
        "data = []\n",
        "lables = []\n",
        "c = 0 ## to see the progress\n",
        "for image in imagePaths:\n",
        "\n",
        "    lable = os.path.split(os.path.split(image)[0])[1]\n",
        "    lables.append(lable)\n",
        "\n",
        "    img = cv2.imread(image)\n",
        "    img = cv2.resize(img, (32, 32), interpolation = cv2.INTER_AREA)\n",
        "    img = filters.sobel(img )\n",
        "    data.append(img)\n",
        "    c=c+1\n",
        "    "
      ]
    },
    {
      "cell_type": "code",
      "execution_count": null,
      "metadata": {
        "colab": {
          "base_uri": "https://localhost:8080/"
        },
        "id": "L6bIKebfo83t",
        "outputId": "637dccee-7d15-44e3-f4b9-de2e47355491"
      },
      "outputs": [
        {
          "output_type": "stream",
          "name": "stdout",
          "text": [
            "['paddy', 'paddy', 'paddy', 'paddy', 'paddy', 'paddy', 'paddy', 'paddy', 'paddy', 'paddy', 'paddy', 'paddy', 'paddy', 'paddy', 'paddy', 'paddy', 'paddy', 'paddy', 'paddy', 'paddy', 'paddy', 'paddy', 'paddy', 'paddy', 'paddy', 'paddy', 'paddy', 'paddy', 'paddy', 'paddy', 'paddy', 'paddy', 'paddy', 'paddy', 'paddy', 'paddy', 'paddy', 'paddy', 'paddy', 'paddy', 'paddy', 'paddy', 'paddy', 'paddy', 'paddy', 'paddy', 'paddy', 'paddy', 'paddy', 'paddy', 'paddy', 'paddy', 'paddy', 'paddy', 'paddy', 'paddy', 'paddy', 'paddy', 'paddy', 'paddy', 'paddy', 'paddy', 'paddy', 'paddy', 'paddy', 'paddy', 'paddy', 'paddy', 'paddy', 'paddy', 'paddy', 'paddy', 'paddy', 'paddy', 'paddy', 'paddy', 'paddy', 'paddy', 'paddy', 'paddy', 'paddy', 'paddy', 'paddy', 'paddy', 'paddy', 'paddy', 'paddy', 'paddy', 'paddy', 'paddy', 'paddy', 'paddy', 'paddy', 'paddy', 'paddy', 'paddy', 'paddy', 'paddy', 'paddy', 'paddy', 'paddy', 'paddy', 'paddy', 'paddy', 'paddy', 'paddy', 'paddy', 'paddy', 'paddy', 'paddy', 'paddy', 'paddy', 'paddy', 'paddy', 'paddy', 'paddy', 'paddy', 'paddy', 'paddy', 'paddy', 'paddy', 'paddy', 'paddy', 'paddy', 'paddy', 'paddy', 'paddy', 'paddy', 'paddy', 'paddy', 'paddy', 'paddy', 'paddy', 'paddy', 'paddy', 'paddy', 'paddy', 'paddy', 'paddy', 'paddy', 'paddy', 'paddy', 'paddy', 'paddy', 'paddy', 'paddy', 'paddy', 'paddy', 'paddy', 'paddy', 'paddy', 'paddy', 'paddy', 'paddy', 'paddy', 'paddy', 'paddy', 'paddy', 'paddy', 'paddy', 'paddy', 'paddy', 'paddy', 'paddy', 'paddy', 'paddy', 'paddy', 'paddy', 'paddy', 'paddy', 'paddy', 'paddy', 'paddy', 'paddy', 'paddy', 'paddy', 'paddy', 'paddy', 'paddy', 'paddy', 'paddy', 'paddy', 'paddy', 'paddy', 'paddy', 'paddy', 'paddy', 'paddy', 'paddy', 'paddy', 'paddy', 'paddy', 'paddy', 'paddy', 'paddy', 'paddy', 'paddy', 'paddy', 'paddy', 'paddy', 'paddy', 'paddy', 'paddy', 'paddy', 'paddy', 'paddy', 'paddy', 'paddy', 'paddy', 'paddy', 'paddy', 'paddy', 'paddy', 'paddy', 'paddy', 'paddy', 'paddy', 'paddy', 'paddy', 'paddy', 'paddy', 'paddy', 'paddy', 'paddy', 'paddy', 'paddy', 'paddy', 'paddy', 'paddy', 'paddy', 'paddy', 'paddy', 'paddy', 'paddy', 'paddy', 'paddy', 'paddy', 'paddy', 'paddy', 'paddy', 'paddy', 'paddy', 'paddy', 'paddy', 'paddy', 'paddy', 'paddy', 'paddy', 'paddy', 'paddy', 'paddy', 'paddy', 'paddy', 'paddy', 'paddy', 'paddy', 'paddy', 'paddy', 'paddy', 'paddy', 'paddy', 'paddy', 'paddy', 'paddy', 'paddy', 'paddy', 'paddy', 'paddy', 'paddy', 'paddy', 'paddy', 'paddy', 'paddy', 'paddy', 'paddy', 'paddy', 'paddy', 'paddy', 'paddy', 'paddy', 'paddy', 'paddy', 'paddy', 'paddy', 'paddy', 'paddy', 'paddy', 'paddy', 'paddy', 'paddy', 'paddy', 'paddy', 'paddy', 'paddy', 'paddy', 'paddy', 'paddy', 'paddy', 'paddy', 'paddy', 'paddy', 'paddy', 'paddy', 'paddy', 'paddy', 'paddy', 'paddy', 'paddy', 'paddy', 'paddy', 'paddy', 'paddy', 'paddy', 'paddy', 'paddy', 'paddy', 'paddy', 'paddy', 'paddy', 'paddy', 'paddy', 'paddy', 'paddy', 'paddy', 'paddy', 'paddy', 'paddy', 'paddy', 'paddy', 'paddy', 'paddy', 'paddy', 'paddy', 'paddy', 'paddy', 'paddy', 'paddy', 'paddy', 'paddy', 'paddy', 'paddy', 'paddy', 'paddy', 'paddy', 'paddy', 'paddy', 'paddy', 'paddy', 'paddy', 'paddy', 'paddy', 'paddy', 'paddy', 'paddy', 'paddy', 'paddy', 'paddy', 'paddy', 'paddy', 'paddy', 'paddy', 'paddy', 'paddy', 'paddy', 'paddy', 'paddy', 'paddy', 'paddy', 'paddy', 'paddy', 'paddy', 'paddy', 'paddy', 'paddy', 'paddy', 'paddy', 'paddy', 'paddy', 'paddy', 'paddy', 'paddy', 'paddy', 'paddy', 'paddy', 'paddy', 'paddy', 'paddy', 'paddy', 'paddy', 'paddy', 'paddy', 'paddy', 'paddy', 'paddy', 'paddy', 'paddy', 'paddy', 'paddy', 'paddy', 'paddy', 'paddy', 'paddy', 'paddy', 'paddy', 'paddy', 'paddy', 'paddy', 'paddy', 'paddy', 'paddy', 'paddy', 'paddy', 'paddy', 'paddy', 'paddy', 'paddy', 'paddy', 'paddy', 'paddy', 'paddy', 'paddy', 'paddy', 'paddy', 'paddy', 'paddy', 'paddy', 'paddy', 'paddy', 'paddy', 'paddy', 'paddy', 'paddy', 'paddy', 'paddy', 'paddy', 'paddy', 'paddy', 'paddy', 'paddy', 'paddy', 'paddy', 'paddy', 'paddy', 'paddy', 'paddy', 'paddy', 'paddy', 'paddy', 'paddy', 'paddy', 'paddy', 'paddy', 'paddy', 'paddy', 'paddy', 'Other', 'Other', 'Other', 'Other', 'Other', 'Other', 'Other', 'Other', 'Other', 'Other', 'Other', 'Other', 'Other', 'Other', 'Other', 'Other', 'Other', 'Other', 'Other', 'Other', 'Other', 'Other', 'Other', 'Other', 'Other', 'Other', 'Other', 'Other', 'Other', 'Other', 'Other', 'Other', 'Other', 'Other', 'Other', 'Other', 'Other', 'Other', 'Other', 'Other', 'Other', 'Other', 'Other', 'Other', 'Other', 'Other', 'Other', 'Other', 'Other', 'Other', 'Other', 'Other', 'Other', 'Other', 'Other', 'Other', 'Other', 'Other', 'Other', 'Other', 'Other', 'Other', 'Other', 'Other', 'Other', 'Other', 'Other', 'Other', 'Other', 'Other', 'Other', 'Other', 'Other', 'Other', 'Other', 'Other', 'Other', 'Other', 'Other', 'Other', 'Other', 'Other', 'Other', 'Other', 'Other', 'Other', 'Other', 'Other', 'Other', 'Other', 'Other', 'Other', 'Other', 'Other', 'Other', 'Other', 'Other', 'Other', 'Other', 'Other', 'Other', 'Other', 'Other', 'Other', 'Other', 'Other', 'Other', 'Other', 'Other', 'Other', 'Other', 'Other', 'Other', 'Other', 'Other', 'Other', 'Other', 'Other', 'Other', 'Other', 'Other', 'Other', 'Other', 'Other', 'Other', 'Other', 'Other', 'Other', 'Other', 'Other', 'Other', 'Other', 'Other', 'Other', 'Other', 'Other', 'Other', 'Other', 'Other', 'Other', 'Other', 'Other', 'Other', 'Other', 'Other', 'Other', 'Other', 'Other', 'Other', 'Other', 'Other', 'Other', 'Other', 'Other', 'Other', 'Other', 'Other', 'Other', 'Other', 'Other', 'Other', 'Other', 'Other', 'Other', 'Other', 'Other', 'Other', 'Other', 'Other', 'Other', 'Other', 'Other', 'Other', 'Other', 'Other', 'Other', 'Other', 'Other', 'Other', 'Other', 'Other', 'Other', 'Other', 'Other', 'Other', 'Other', 'Other', 'Other', 'Other', 'Other', 'Other', 'Other', 'Other', 'Other', 'Other', 'Other', 'Other', 'Other', 'Other', 'Other', 'Other', 'Other', 'Other', 'Other', 'Other', 'Other', 'Other', 'Other', 'Other', 'Other', 'Other', 'Other', 'Other', 'Other', 'Other', 'Other', 'Other', 'Other', 'Other', 'Other', 'Other', 'Other', 'Other', 'Other', 'Other', 'Other', 'Other', 'Other', 'Other', 'Other', 'Other', 'Other', 'Other', 'Other', 'Other', 'Other', 'Other', 'Other', 'Other', 'Other', 'Other', 'Other', 'Other', 'Other', 'Other', 'Other', 'Other', 'Other', 'Other', 'Other', 'Other', 'Other', 'Other', 'Other', 'Other', 'Other', 'Other', 'Other', 'Other', 'Other', 'Other', 'Other', 'Other', 'Other', 'Other', 'Other', 'Other', 'Other', 'Other', 'Other', 'Other', 'Other', 'Other', 'Other', 'Other', 'Other', 'Other', 'Other', 'Other', 'Other', 'Other', 'Other', 'Other', 'Other', 'Other', 'Other', 'Other', 'Other', 'Other', 'Other', 'Other', 'Other', 'Other', 'Other', 'Other', 'Other', 'Other', 'Other', 'Other', 'Other', 'Other', 'Other', 'Other', 'Other', 'Other', 'Other', 'Other', 'Other', 'Other', 'Other', 'Other', 'Other', 'Other', 'Other', 'Other', 'Other', 'Other', 'Other', 'Other', 'Other', 'Other', 'Other', 'Other', 'Other', 'Other', 'Other', 'Other', 'Other', 'Other', 'Other', 'Other', 'Other', 'Other', 'Other', 'Other', 'Other', 'Other', 'Other', 'Other', 'Other', 'Other', 'Other', 'Other', 'Other', 'Other', 'Other', 'Other', 'Other', 'Other', 'Other', 'Other', 'Other', 'Other', 'Other', 'Other', 'Other', 'Other', 'Other', 'Other', 'Other', 'Other', 'Other', 'Other', 'Other', 'Other', 'Other', 'Other', 'Other', 'Other', 'Other', 'Other', 'Other', 'Other', 'Other', 'Other', 'Other', 'Other', 'Other', 'Other', 'Other', 'Other', 'Other', 'Other', 'Other', 'Other', 'Other', 'Other', 'Other', 'Other', 'Other', 'Other', 'Other', 'Other', 'Other', 'Other', 'Other', 'Other', 'Other', 'Other', 'Other', 'Other', 'Other', 'Other', 'Other', 'Other', 'Other', 'Other', 'Other', 'Other', 'Other', 'Other', 'Other', 'Other', 'Other', 'Other', 'Other', 'Other', 'Other', 'Other', 'Other', 'Other', 'Other', 'Other', 'Other', 'Other', 'Other', 'Other', 'Other', 'Other', 'Other', 'Other', 'Other', 'Other', 'Other', 'Other', 'Other', 'Other', 'Other', 'Other', 'Other', 'Other', 'Other', 'Other', 'Other', 'Other', 'Other', 'Other', 'Other', 'Other', 'Other', 'Other', 'Other', 'Other', 'Other', 'Other', 'Other', 'Other', 'Other', 'Other', 'Other', 'Other', 'Other', 'Other', 'Other', 'Other', 'Other', 'Other', 'Other', 'Other', 'Other', 'Other', 'Other', 'Other', 'Other', 'Other', 'Other', 'Other', 'Other', 'Other', 'Other', 'Other', 'Other', 'Other', 'Other', 'Other', 'Other', 'Other', 'Other', 'Other', 'Other', 'Other', 'Other', 'Other', 'Other', 'Other', 'Other', 'Other', 'Other', 'Other', 'Other', 'Other', 'Other', 'Other', 'Other', 'Other', 'Other', 'Other']\n"
          ]
        }
      ],
      "source": [
        "print(lables)"
      ]
    },
    {
      "cell_type": "code",
      "execution_count": null,
      "metadata": {
        "id": "6tC-BYM5o83t"
      },
      "outputs": [],
      "source": [
        "# encode the labels as integer\n",
        "data = np.array(data)\n",
        "lables = np.array(lables)"
      ]
    },
    {
      "cell_type": "code",
      "execution_count": null,
      "metadata": {
        "colab": {
          "base_uri": "https://localhost:8080/"
        },
        "id": "hO8gi0Kfo83u",
        "outputId": "221d18d3-e5c5-4425-f5a7-e706ece9237d"
      },
      "outputs": [
        {
          "output_type": "stream",
          "name": "stdout",
          "text": [
            "{0, 1}\n"
          ]
        }
      ],
      "source": [
        "le = LabelEncoder()\n",
        "lables = le.fit_transform(lables)\n",
        "\n",
        "myset = set(lables)\n",
        "print(myset)"
      ]
    },
    {
      "cell_type": "code",
      "execution_count": null,
      "metadata": {
        "colab": {
          "base_uri": "https://localhost:8080/"
        },
        "id": "8z_Bn96_o83u",
        "outputId": "19651914-81d7-4659-c0ce-03d857fd3e59"
      },
      "outputs": [
        {
          "output_type": "stream",
          "name": "stdout",
          "text": [
            "(962, 3072)\n",
            "(962,)\n",
            "962\n"
          ]
        }
      ],
      "source": [
        "#to print dataset information\n",
        "dataset_size = data.shape[0]\n",
        "data = data.reshape(dataset_size,-1)\n",
        "\n",
        "print(data.shape)\n",
        "print(lables.shape)\n",
        "print(dataset_size)"
      ]
    },
    {
      "cell_type": "code",
      "execution_count": null,
      "metadata": {
        "id": "VQ5GMUsOo83u"
      },
      "outputs": [],
      "source": [
        "#Splitting of dataset into training and test dataset\n",
        "(trainX, testX, trainY, testY ) = train_test_split(data, lables, test_size= 0.25, random_state=42)\n",
        "\n"
      ]
    },
    {
      "cell_type": "code",
      "source": [
        "#KNN classifier\n",
        "from sklearn import metrics\n",
        "import time\n",
        "\n",
        "import matplotlib.pyplot as plt\n",
        "begin = time.time()\n",
        "model = KNeighborsClassifier(n_neighbors=5, n_jobs=-1)\n",
        "model.fit(trainX, trainY)\n",
        "y_pred = model.predict(testX)\n",
        "end = time.time()\n",
        "print('time taken=',end-begin)\n",
        "print(\"Accuracy:\",metrics.accuracy_score(testY, y_pred))\n",
        "print(classification_report(testY, model.predict(testX), target_names=le.classes_))\n",
        "from sklearn.metrics import confusion_matrix\n",
        "confmat = confusion_matrix(y_true=testY, y_pred=y_pred)\n",
        "\n",
        "fig, ax = plt.subplots(figsize=(2.5, 2.5))\n",
        "ax.matshow(confmat, cmap=plt.cm.Blues, alpha=0.3)\n",
        "for i in range(confmat.shape[0]):\n",
        "  for j in range(confmat.shape[1]):\n",
        "     ax.text(x=j, y=i,s=confmat[i, j],va='center', ha='center')\n",
        "plt.xlabel('predicted label')\n",
        "plt.ylabel('true label')\n",
        "plt.show()"
      ],
      "metadata": {
        "colab": {
          "base_uri": "https://localhost:8080/",
          "height": 399
        },
        "id": "ji-b7sZmkqVU",
        "outputId": "861f1436-883e-4a06-cbba-c0e1d6290172"
      },
      "execution_count": null,
      "outputs": [
        {
          "output_type": "stream",
          "name": "stdout",
          "text": [
            "time taken= 0.24461793899536133\n",
            "Accuracy: 0.941908713692946\n",
            "              precision    recall  f1-score   support\n",
            "\n",
            "       Other       1.00      0.89      0.94       127\n",
            "       paddy       0.89      1.00      0.94       114\n",
            "\n",
            "    accuracy                           0.94       241\n",
            "   macro avg       0.95      0.94      0.94       241\n",
            "weighted avg       0.95      0.94      0.94       241\n",
            "\n"
          ]
        },
        {
          "output_type": "display_data",
          "data": {
            "image/png": "[encoded data removed]",
            "text/plain": [
              "<Figure size 180x180 with 1 Axes>"
            ]
          },
          "metadata": {
            "needs_background": "light"
          }
        }
      ]
    },
    {
      "cell_type": "code",
      "source": [
        "#Naive Bayes classifier\n",
        "from sklearn.naive_bayes import  MultinomialNB, GaussianNB\n",
        "#Import scikit-learn metrics module for accuracy calculation\n",
        "from sklearn import metrics\n",
        "#Import Gaussian Naive Bayes model\n",
        "from sklearn.naive_bayes import GaussianNB\n",
        "#Create a Gaussian Classifier\n",
        "gnb = GaussianNB()\n",
        "begin = time.time()\n",
        "#Train the model using the training sets\n",
        "gnb.fit(trainX, trainY)\n",
        "\n",
        "\n",
        "#Predict the response for test dataset\n",
        "y_pred = gnb.predict(testX)\n",
        "end = time.time()\n",
        "print('time taken=',end-begin)\n",
        "print(\"Accuracy:\",metrics.accuracy_score(testY, y_pred))\n",
        "print(classification_report(testY, gnb.predict(testX), target_names=le.classes_))\n",
        "from sklearn.metrics import confusion_matrix\n",
        "confmat = confusion_matrix(y_true=testY, y_pred=y_pred)\n",
        "\n",
        "fig, ax = plt.subplots(figsize=(2.5, 2.5))\n",
        "ax.matshow(confmat, cmap=plt.cm.Blues, alpha=0.3)\n",
        "for i in range(confmat.shape[0]):\n",
        "  for j in range(confmat.shape[1]):\n",
        "     ax.text(x=j, y=i,s=confmat[i, j],va='center', ha='center')\n",
        "plt.xlabel('predicted label')\n",
        "plt.ylabel('true label')\n",
        "plt.show()"
      ],
      "metadata": {
        "colab": {
          "base_uri": "https://localhost:8080/",
          "height": 399
        },
        "id": "Y-DL75_WlNFK",
        "outputId": "2ab598db-966d-4573-b575-66715d94838f"
      },
      "execution_count": null,
      "outputs": [
        {
          "output_type": "stream",
          "name": "stdout",
          "text": [
            "time taken= 0.04876303672790527\n",
            "Accuracy: 0.9626556016597511\n",
            "              precision    recall  f1-score   support\n",
            "\n",
            "       Other       0.93      1.00      0.97       127\n",
            "       paddy       1.00      0.92      0.96       114\n",
            "\n",
            "    accuracy                           0.96       241\n",
            "   macro avg       0.97      0.96      0.96       241\n",
            "weighted avg       0.97      0.96      0.96       241\n",
            "\n"
          ]
        },
        {
          "output_type": "display_data",
          "data": {
            "image/png": "[encoded data removed]",
            "text/plain": [
              "<Figure size 180x180 with 1 Axes>"
            ]
          },
          "metadata": {
            "needs_background": "light"
          }
        }
      ]
    },
    {
      "cell_type": "code",
      "source": [
        "#Multinomial classifier\n",
        "mnb = MultinomialNB()\n",
        "begin=time.time()\n",
        "mnb.fit(trainX, trainY)\n",
        "#Predict the response for test dataset\n",
        "y_pred = mnb.predict(testX)\n",
        "end = time.time()\n",
        "print('time taken=',end-begin)\n",
        "print(\"Accuracy:\",metrics.accuracy_score(testY, y_pred))\n",
        "print(classification_report(testY, mnb.predict(testX), target_names=le.classes_))\n",
        "from sklearn.metrics import confusion_matrix\n",
        "confmat = confusion_matrix(y_true=testY, y_pred=y_pred)\n",
        "\n",
        "fig, ax = plt.subplots(figsize=(2.5, 2.5))\n",
        "ax.matshow(confmat, cmap=plt.cm.Blues, alpha=0.3)\n",
        "for i in range(confmat.shape[0]):\n",
        "  for j in range(confmat.shape[1]):\n",
        "     ax.text(x=j, y=i,s=confmat[i, j],va='center', ha='center')\n",
        "plt.xlabel('predicted label')\n",
        "plt.ylabel('true label')\n",
        "plt.show()\n"
      ],
      "metadata": {
        "colab": {
          "base_uri": "https://localhost:8080/",
          "height": 399
        },
        "id": "jEWQyF1KlUhj",
        "outputId": "d29a64c2-cebf-4c1c-c23b-603cf35c048c"
      },
      "execution_count": null,
      "outputs": [
        {
          "output_type": "stream",
          "name": "stdout",
          "text": [
            "time taken= 0.018819093704223633\n",
            "Accuracy: 0.9626556016597511\n",
            "              precision    recall  f1-score   support\n",
            "\n",
            "       Other       0.98      0.95      0.96       127\n",
            "       paddy       0.95      0.97      0.96       114\n",
            "\n",
            "    accuracy                           0.96       241\n",
            "   macro avg       0.96      0.96      0.96       241\n",
            "weighted avg       0.96      0.96      0.96       241\n",
            "\n"
          ]
        },
        {
          "output_type": "display_data",
          "data": {
            "image/png": "[encoded data removed]",
            "text/plain": [
              "<Figure size 180x180 with 1 Axes>"
            ]
          },
          "metadata": {
            "needs_background": "light"
          }
        }
      ]
    },
    {
      "cell_type": "code",
      "source": [
        "#Decision Tree classifier\n",
        "from sklearn.tree import DecisionTreeClassifier\n",
        "dtree=DecisionTreeClassifier( criterion = \"gini\", splitter='random', max_depth=8)\n",
        "begin=time.time()\n",
        "dtree.fit(trainX,trainY)\n",
        "# Predicting the values of test data\n",
        "y_pred = dtree.predict(testX)\n",
        "end = time.time()\n",
        "print('time taken=',end-begin)\n",
        "# Model Accuracy, how often is the classifier correct?\n",
        "print(\"Accuracy:\",metrics.accuracy_score(testY, y_pred))\n",
        "print(classification_report(testY, dtree.predict(testX), target_names=le.classes_))\n",
        "from sklearn.metrics import confusion_matrix\n",
        "confmat = confusion_matrix(y_true=testY, y_pred=y_pred)\n",
        "\n",
        "fig, ax = plt.subplots(figsize=(2.5, 2.5))\n",
        "ax.matshow(confmat, cmap=plt.cm.Blues, alpha=0.3)\n",
        "for i in range(confmat.shape[0]):\n",
        "  for j in range(confmat.shape[1]):\n",
        "     ax.text(x=j, y=i,s=confmat[i, j],va='center', ha='center')\n",
        "plt.xlabel('predicted label')\n",
        "plt.ylabel('true label')\n",
        "plt.show()"
      ],
      "metadata": {
        "colab": {
          "base_uri": "https://localhost:8080/",
          "height": 399
        },
        "id": "oY8SRwQomuIv",
        "outputId": "56ea6ae2-1e4b-4441-ea9a-ac0f4610fed7"
      },
      "execution_count": null,
      "outputs": [
        {
          "output_type": "stream",
          "name": "stdout",
          "text": [
            "time taken= 0.20253944396972656\n",
            "Accuracy: 0.9336099585062241\n",
            "              precision    recall  f1-score   support\n",
            "\n",
            "       Other       0.92      0.95      0.94       127\n",
            "       paddy       0.95      0.91      0.93       114\n",
            "\n",
            "    accuracy                           0.93       241\n",
            "   macro avg       0.93      0.93      0.93       241\n",
            "weighted avg       0.93      0.93      0.93       241\n",
            "\n"
          ]
        },
        {
          "output_type": "display_data",
          "data": {
            "image/png": "[encoded data removed]",
            "text/plain": [
              "<Figure size 180x180 with 1 Axes>"
            ]
          },
          "metadata": {
            "needs_background": "light"
          }
        }
      ]
    },
    {
      "cell_type": "code",
      "source": [
        "# Support Vector machine classifier\n",
        "from sklearn.svm import SVC\n",
        "svn = SVC()\n",
        "begin=time.time()\n",
        "svn.fit(trainX, trainY)\n",
        "# Predict from the test dataset\n",
        "predictions = svn.predict(testX)\n",
        "end = time.time()\n",
        "print('time taken=',end-begin)\n",
        "# Model Accuracy, how often is the classifier correct?\n",
        "print(\"Accuracy:\",metrics.accuracy_score(testY, predictions))\n",
        "print(classification_report(testY, svn.predict(testX), target_names=le.classes_))\n",
        "from sklearn.metrics import confusion_matrix\n",
        "confmat = confusion_matrix(y_true=testY, y_pred=predictions)\n",
        "\n",
        "fig, ax = plt.subplots(figsize=(2.5, 2.5))\n",
        "ax.matshow(confmat, cmap=plt.cm.Blues, alpha=0.3)\n",
        "for i in range(confmat.shape[0]):\n",
        "  for j in range(confmat.shape[1]):\n",
        "     ax.text(x=j, y=i,s=confmat[i, j],va='center', ha='center')\n",
        "plt.xlabel('predicted label')\n",
        "plt.ylabel('true label')\n",
        "plt.show()\n"
      ],
      "metadata": {
        "colab": {
          "base_uri": "https://localhost:8080/",
          "height": 399
        },
        "id": "UhjdlS83oMiD",
        "outputId": "914c36f6-47bc-4d05-e9d7-b96208afc6c9"
      },
      "execution_count": null,
      "outputs": [
        {
          "output_type": "stream",
          "name": "stdout",
          "text": [
            "time taken= 0.2623271942138672\n",
            "Accuracy: 1.0\n",
            "              precision    recall  f1-score   support\n",
            "\n",
            "       Other       1.00      1.00      1.00       127\n",
            "       paddy       1.00      1.00      1.00       114\n",
            "\n",
            "    accuracy                           1.00       241\n",
            "   macro avg       1.00      1.00      1.00       241\n",
            "weighted avg       1.00      1.00      1.00       241\n",
            "\n"
          ]
        },
        {
          "output_type": "display_data",
          "data": {
            "image/png": "[encoded data removed]",
            "text/plain": [
              "<Figure size 180x180 with 1 Axes>"
            ]
          },
          "metadata": {
            "needs_background": "light"
          }
        }
      ]
    },
    {
      "cell_type": "code",
      "source": [
        "\n",
        "#SVC classifier\n",
        "from sklearn.svm import LinearSVC\n",
        "lsvc = LinearSVC(verbose=0)\n",
        "print(lsvc)\n",
        "\n",
        "LinearSVC(C=1.0, class_weight=None, dual=True, fit_intercept=True,\n",
        "          intercept_scaling=1, loss='squared_hinge', max_iter=1000,\n",
        "          multi_class='ovr', penalty='l2', random_state=None, tol=0.0001,\n",
        "          verbose=0)"
      ],
      "metadata": {
        "colab": {
          "base_uri": "https://localhost:8080/"
        },
        "id": "_jY4eK_xrTDg",
        "outputId": "904d8b1f-7186-40dd-accd-53025616833b"
      },
      "execution_count": null,
      "outputs": [
        {
          "output_type": "stream",
          "name": "stdout",
          "text": [
            "LinearSVC()\n"
          ]
        },
        {
          "output_type": "execute_result",
          "data": {
            "text/plain": [
              "LinearSVC()"
            ]
          },
          "metadata": {},
          "execution_count": 20
        }
      ]
    },
    {
      "cell_type": "code",
      "source": [
        "begin=time.time()\n",
        "lsvc.fit(trainX, trainY)\n",
        "#score = lsvc.score(trainX, trainY)\n",
        "#print(\"Score: \", score)\n",
        "predictions = lsvc.predict(testX)\n",
        "end = time.time()\n",
        "print('time taken=',end-begin)\n",
        "# Model Accuracy, how often is the classifier correct?\n",
        "print(\"Accuracy:\",metrics.accuracy_score(testY, predictions))\n",
        "print(classification_report(testY, lsvc.predict(testX), target_names=le.classes_))\n",
        "from sklearn.metrics import confusion_matrix\n",
        "confmat = confusion_matrix(y_true=testY, y_pred=predictions)\n",
        "\n",
        "fig, ax = plt.subplots(figsize=(2.5, 2.5))\n",
        "ax.matshow(confmat, cmap=plt.cm.Blues, alpha=0.3)\n",
        "for i in range(confmat.shape[0]):\n",
        "  for j in range(confmat.shape[1]):\n",
        "     ax.text(x=j, y=i,s=confmat[i, j],va='center', ha='center')\n",
        "plt.xlabel('predicted label')\n",
        "plt.ylabel('true label')\n",
        "plt.show()"
      ],
      "metadata": {
        "colab": {
          "base_uri": "https://localhost:8080/",
          "height": 399
        },
        "id": "u3oOme0Brf3c",
        "outputId": "c7b2a644-a0ea-4cff-b249-562a01efbd72"
      },
      "execution_count": null,
      "outputs": [
        {
          "output_type": "stream",
          "name": "stdout",
          "text": [
            "time taken= 0.7227094173431396\n",
            "Accuracy: 0.9875518672199171\n",
            "              precision    recall  f1-score   support\n",
            "\n",
            "       Other       0.98      1.00      0.99       127\n",
            "       paddy       1.00      0.97      0.99       114\n",
            "\n",
            "    accuracy                           0.99       241\n",
            "   macro avg       0.99      0.99      0.99       241\n",
            "weighted avg       0.99      0.99      0.99       241\n",
            "\n"
          ]
        },
        {
          "output_type": "display_data",
          "data": {
            "image/png": "[encoded data removed]",
            "text/plain": [
              "<Figure size 180x180 with 1 Axes>"
            ]
          },
          "metadata": {
            "needs_background": "light"
          }
        }
      ]
    },
    {
      "cell_type": "code",
      "source": [
        "#Logistic Regression classifier\n",
        "from sklearn.linear_model import LogisticRegression\n",
        "classifier = LogisticRegression(random_state=0)\n",
        "begin=time.time()\n",
        "classifier.fit(trainX, trainY)\n",
        "y_pred=classifier.predict(testX)\n",
        "end = time.time()\n",
        "print('time taken=',end-begin)\n",
        "predictions = classifier.predict(testX)\n",
        "# Model Accuracy, how often is the classifier correct?\n",
        "print(\"Accuracy:\",metrics.accuracy_score(testY, y_pred))\n",
        "print(classification_report(testY, classifier.predict(testX), target_names=le.classes_))\n",
        "from sklearn.metrics import confusion_matrix\n",
        "confmat = confusion_matrix(y_true=testY, y_pred=y_pred)\n",
        "\n",
        "fig, ax = plt.subplots(figsize=(2.5, 2.5))\n",
        "ax.matshow(confmat, cmap=plt.cm.Blues, alpha=0.3)\n",
        "for i in range(confmat.shape[0]):\n",
        "  for j in range(confmat.shape[1]):\n",
        "     ax.text(x=j, y=i,s=confmat[i, j],va='center', ha='center')\n",
        "plt.xlabel('predicted label')\n",
        "plt.ylabel('true label')\n",
        "plt.show()"
      ],
      "metadata": {
        "colab": {
          "base_uri": "https://localhost:8080/",
          "height": 399
        },
        "id": "Cx1ueEHWsWMV",
        "outputId": "79d861d0-4d13-4fb6-b8f7-e847592c87c7"
      },
      "execution_count": null,
      "outputs": [
        {
          "output_type": "stream",
          "name": "stdout",
          "text": [
            "time taken= 0.32375383377075195\n",
            "Accuracy: 1.0\n",
            "              precision    recall  f1-score   support\n",
            "\n",
            "       Other       1.00      1.00      1.00       127\n",
            "       paddy       1.00      1.00      1.00       114\n",
            "\n",
            "    accuracy                           1.00       241\n",
            "   macro avg       1.00      1.00      1.00       241\n",
            "weighted avg       1.00      1.00      1.00       241\n",
            "\n"
          ]
        },
        {
          "output_type": "display_data",
          "data": {
            "image/png": "[encoded data removed]",
            "text/plain": [
              "<Figure size 180x180 with 1 Axes>"
            ]
          },
          "metadata": {
            "needs_background": "light"
          }
        }
      ]
    },
    {
      "cell_type": "code",
      "source": [
        "#Random Forest Classifier\n",
        "from sklearn.ensemble import RandomForestClassifier\n",
        "clf = RandomForestClassifier(n_estimators=150)\n",
        "begin=time.time()\n",
        "clf.fit(trainX,trainY)\n",
        "y_pred=clf.predict(testX)\n",
        "predictions = clf.predict(testX)\n",
        "end = time.time()\n",
        "print('time taken=',end-begin)\n",
        "# Model Accuracy\n",
        "print(\"Accuracy:\",metrics.accuracy_score(testY, y_pred))\n",
        "print(classification_report(testY, lsvc.predict(testX), target_names=le.classes_))\n",
        "\n",
        "from sklearn.metrics import confusion_matrix\n",
        "confmat = confusion_matrix(y_true=testY, y_pred=y_pred)\n",
        "\n",
        "fig, ax = plt.subplots(figsize=(2.5, 2.5))\n",
        "ax.matshow(confmat, cmap=plt.cm.Blues, alpha=0.3)\n",
        "for i in range(confmat.shape[0]):\n",
        "  for j in range(confmat.shape[1]):\n",
        "     ax.text(x=j, y=i,s=confmat[i, j],va='center', ha='center')\n",
        "plt.xlabel('predicted label')\n",
        "plt.ylabel('true label')\n",
        "plt.show()"
      ],
      "metadata": {
        "colab": {
          "base_uri": "https://localhost:8080/",
          "height": 399
        },
        "id": "OvcVB0nBt_Uc",
        "outputId": "74bdeab9-e4e1-49ba-f5da-ccf62819f9d3"
      },
      "execution_count": null,
      "outputs": [
        {
          "output_type": "stream",
          "name": "stdout",
          "text": [
            "time taken= 2.5226621627807617\n",
            "Accuracy: 0.983402489626556\n",
            "              precision    recall  f1-score   support\n",
            "\n",
            "       Other       0.98      1.00      0.99       127\n",
            "       paddy       1.00      0.97      0.99       114\n",
            "\n",
            "    accuracy                           0.99       241\n",
            "   macro avg       0.99      0.99      0.99       241\n",
            "weighted avg       0.99      0.99      0.99       241\n",
            "\n"
          ]
        },
        {
          "output_type": "display_data",
          "data": {
            "image/png": "[encoded data removed]",
            "text/plain": [
              "<Figure size 180x180 with 1 Axes>"
            ]
          },
          "metadata": {
            "needs_background": "light"
          }
        }
      ]
    }
  ],
  "metadata": {
    "kernelspec": {
      "display_name": "Python 3",
      "language": "python",
      "name": "python3"
    },
    "language_info": {
      "codemirror_mode": {
        "name": "ipython",
        "version": 3
      },
      "file_extension": ".py",
      "mimetype": "text/x-python",
      "name": "python",
      "nbconvert_exporter": "python",
      "pygments_lexer": "ipython3",
      "version": "3.7.4"
    },
    "toc": {
      "base_numbering": 1,
      "nav_menu": {},
      "number_sections": true,
      "sideBar": true,
      "skip_h1_title": false,
      "title_cell": "Table of Contents",
      "title_sidebar": "Contents",
      "toc_cell": false,
      "toc_position": {},
      "toc_section_display": true,
      "toc_window_display": false
    },
    "colab": {
      "name": "ProjectML_weed_detection_Manisha_1004.ipynb",
      "provenance": [],
      "collapsed_sections": []
    }
  },
  "nbformat": 4,
  "nbformat_minor": 0
}